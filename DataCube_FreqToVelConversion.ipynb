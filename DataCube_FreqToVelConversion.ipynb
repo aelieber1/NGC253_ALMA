{
 "cells": [
  {
   "cell_type": "markdown",
   "id": "30cc8e9a-5ae4-4d28-8ad1-a25a7b041d6c",
   "metadata": {},
   "source": [
    "## Converting Spectral Axis of ALMA Datacube from Frequency to Velocity & Saving\n",
    "\n",
    "#### Purpose: to convert axis from Frequency (Hz) to Velocity (km/s or m/s) in order to be compatible with the overall dataset, independent code set in order to save as a new cube for further analysis\n",
    "#### Author: @aelieber1\n",
    "##### Nearby Galaxies Lab @ University of Kansas"
   ]
  },
  {
   "cell_type": "code",
   "execution_count": 22,
   "id": "bac1e6ec-9c42-4798-b95f-1fcd05b0941f",
   "metadata": {},
   "outputs": [],
   "source": [
    "# Import necessary packages\n",
    "import scipy\n",
    "import astropy.io.fits as fits              # I use this to import FITS images. \n",
    "from astropy.wcs import WCS                 # This one helps us add coordinates to images\n",
    "from astropy import units as u              # This one helps with unit conversion\n",
    "from astropy import constants as const\n",
    "import regions\n",
    "import pyspeckit as psk                     # I use this to do spectral line fitting\n",
    "from spectral_cube import SpectralCube  "
   ]
  },
  {
   "cell_type": "code",
   "execution_count": 23,
   "id": "a4562a23-1922-4df7-84e7-fcd2fa19b848",
   "metadata": {},
   "outputs": [],
   "source": [
    "# Read in Data\n",
    "\n",
    "species = 'HCN4-3.fits' # species we are investigating\n",
    "path = '/Users/ashleylieber/MIlls_Research/NGC253_AlmaData/' + species #path to fin in directory\n",
    "\n",
    "data = fits.open(path)  # Open the FITS file for reading\n",
    "cube = SpectralCube.read(data)  # Initiate a SpectralCube\n",
    "data.close() # Close"
   ]
  },
  {
   "cell_type": "code",
   "execution_count": 24,
   "id": "b933b82e-f0ef-4a13-9c1e-24f096dcc965",
   "metadata": {},
   "outputs": [
    {
     "name": "stdout",
     "output_type": "stream",
     "text": [
      "SpectralCube with shape=(81, 1536, 1800) and unit=Jy / beam:\n",
      " n_x:   1800  type_x: RA---SIN  unit_x: deg    range:    11.878802 deg:   11.897042 deg\n",
      " n_y:   1536  type_y: DEC--SIN  unit_y: deg    range:   -25.295373 deg:  -25.281302 deg\n",
      " n_s:     81  type_s: VRAD      unit_s: km / s  range:       43.000 km / s:     443.000 km / s\n"
     ]
    }
   ],
   "source": [
    "# Convert spectral axis u sing Spectral cube to obtain the velocity range from the third axis\n",
    "# Reference webpage: https://spectral-cube.readthedocs.io/en/latest/manipulating.html\n",
    "\n",
    "rest_frq = cube.header['RESTFRQ']\n",
    "cube2 = cube.with_spectral_unit(u.km / u.s, velocity_convention='radio',rest_value=rest_frq*u.Hz)\n",
    "print(cube2)"
   ]
  },
  {
   "cell_type": "code",
   "execution_count": 27,
   "id": "89af7de1-e5e8-46ac-92e0-33495262d259",
   "metadata": {},
   "outputs": [],
   "source": [
    "# Save as new cube\n",
    "cube2.write(species+'.velocity.fits', format='fits',overwrite=True)"
   ]
  },
  {
   "cell_type": "code",
   "execution_count": null,
   "id": "63c6cf70-b3d6-4982-ba66-38a9a631bd0a",
   "metadata": {},
   "outputs": [],
   "source": []
  }
 ],
 "metadata": {
  "kernelspec": {
   "display_name": "Python 3 (ipykernel)",
   "language": "python",
   "name": "python3"
  },
  "language_info": {
   "codemirror_mode": {
    "name": "ipython",
    "version": 3
   },
   "file_extension": ".py",
   "mimetype": "text/x-python",
   "name": "python",
   "nbconvert_exporter": "python",
   "pygments_lexer": "ipython3",
   "version": "3.9.13"
  }
 },
 "nbformat": 4,
 "nbformat_minor": 5
}
