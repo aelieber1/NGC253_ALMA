{
 "cells": [
  {
   "cell_type": "markdown",
   "id": "f183fe71-4efc-4a47-bc27-32b838000729",
   "metadata": {},
   "source": [
    "# Analysis of ALMA NGC 253 Data for Density Tracing Species"
   ]
  },
  {
   "cell_type": "markdown",
   "id": "ecba1eb5-0d2d-4273-92c4-b6a98b210321",
   "metadata": {},
   "source": [
    "## (1) Importing Python packages you will be using"
   ]
  },
  {
   "cell_type": "code",
   "execution_count": 2,
   "id": "2e9ea6a7-6c0e-43c8-92ab-4ed27318e471",
   "metadata": {},
   "outputs": [],
   "source": [
    "#Use this window to import packages you will use later\n",
    "#When you first start working or import a new package, this cell needs to be run before doing anything else.\n",
    "\n",
    "\n",
    "import numpy as np                          # I use this for maths and sometimes arrays.\n",
    "                                            # \"np\" is just an abbreviation since we call this package so often!\n",
    "import pylab                                # I use this for arrays and plotting\n",
    "import matplotlib                           # Another plotting package\n",
    "import matplotlib.gridspec as gridspec      # If there is a task you use a lot, importing it like this \n",
    "                                            # keeps you from having to constantly type \"matplotlib.gridspec\"\n",
    "                                            # every time you call that task!\n",
    "import scipy\n",
    "\n",
    "import astropy.io.fits as fits              # I use this to import FITS images. \n",
    "                                            # Astropy should be included in your conda installation\n",
    "from astropy.wcs import WCS                 # This one helps us add coordinates to images\n",
    "from astropy import units as u              # This one helps with unit conversion\n",
    "from astropy import constants as const\n",
    "\n",
    "import regions\n",
    "\n",
    "import pyspeckit as psk                     # I use this to do spectral line fitting\n",
    "                                            # You probably don't have it installed; \n",
    "                                            # to install, type 'pip install pyspeckit' in a terminal window\n",
    "        \n",
    "from spectral_cube import SpectralCube      # This is a handy package for working with 3D data cubes\n",
    "\n",
    "from reproject import reproject_interp      # Reproject is another useful package you should install\n",
    "from reproject.mosaicking import find_optimal_celestial_wcs \n",
    "\n",
    "\n",
    "                                            # Suppress warnings we don't care about:\n",
    "import sys\n",
    "if not sys.warnoptions:\n",
    "    import warnings\n",
    "    warnings.simplefilter(\"ignore\")\n",
    "\n",
    "                                            # Super important!! \n",
    "                                            # This embeds plots in the Jupyter window \n",
    "                                            # (instead of showing them as pop-ups)\n",
    "%matplotlib inline                             \n",
    "\n",
    "matplotlib.rc('font', family='sans-serif')  # Set plot fonts\n",
    "matplotlib.rc('text', usetex=True)      \n",
    "#matplotlib.rc('text', usetex=False)        # This is a quick fix if you don't have latex on your computer"
   ]
  },
  {
   "cell_type": "code",
   "execution_count": 3,
   "id": "fe72d961-962a-41d4-af62-d52454253994",
   "metadata": {},
   "outputs": [],
   "source": [
    "#path = '/Users/ashleylieber/MIlls_Research/NGC253_AlmaData/HCN4-3.fits'\n",
    "path = '/Users/ashleylieber/MIlls_Research/NGC253_AlmaData/HCN_J1-0.cube.fits'\n",
    "                                # This string is not just the name of a file, but its full address.\n",
    "                                # If, like this file, it is in the same directory as your notebook,\n",
    "                                # you can specify just the filename. If it lives elsewhere you need\n",
    "                                # to give a relative (e.g., data/name.fits or ../directory/name.fits)\n",
    "                                # or absolute (e.g., EACMills/Project/Data/name.fits) path to the file.\n",
    "\n",
    "\n",
    "                                # The fits images we will work with consist of two main parts:\n",
    "                                # (1) An array of 2-4 dimensions that holds the value of each image pixel \n",
    "                                # (2) A \"header\" which contains a summary of information associated with this array                \n",
    "          \n",
    "\n",
    "image = fits.getdata(path)      # This command reads in the data array part of the fits file, so we can manipulate it \n",
    "                                # like any other python array\n",
    "    \n",
    "header = fits.getheader(path)   # This command reads in the header, which consists of a series of variables \n",
    "                                # and associated values  "
   ]
  },
  {
   "cell_type": "code",
   "execution_count": 4,
   "id": "cdae22ca-7610-458b-bb8f-96dfbb376d25",
   "metadata": {},
   "outputs": [],
   "source": [
    "#eader"
   ]
  },
  {
   "cell_type": "code",
   "execution_count": 5,
   "id": "dce6ed53-4d2e-4d90-a41a-ebe3070283a1",
   "metadata": {},
   "outputs": [],
   "source": [
    "hi_data = fits.open(path)  # Open the FITS file for reading\n",
    "cube = SpectralCube.read(hi_data)  # Initiate a SpectralCube\n",
    "hi_data.close() "
   ]
  },
  {
   "cell_type": "code",
   "execution_count": 6,
   "id": "31606a06-4992-4a30-90ed-6e54d8bae8ac",
   "metadata": {},
   "outputs": [
    {
     "name": "stdout",
     "output_type": "stream",
     "text": [
      "SpectralCube with shape=(180, 1221, 1221) and unit=Jy / beam:\n",
      " n_x:   1221  type_x: RA---SIN  unit_x: deg    range:    11.881963 deg:   11.893582 deg\n",
      " n_y:   1221  type_y: DEC--SIN  unit_y: deg    range:   -25.293789 deg:  -25.283283 deg\n",
      " n_s:    180  type_s: VRAD      unit_s: m / s  range:   -27095.993 m / s:  564232.971 m / s\n"
     ]
    }
   ],
   "source": [
    "print(cube)"
   ]
  },
  {
   "cell_type": "markdown",
   "id": "8e04061f-4c50-45b0-93c4-e64add7d11b0",
   "metadata": {
    "tags": []
   },
   "source": [
    "## Cropping"
   ]
  },
  {
   "cell_type": "code",
   "execution_count": 9,
   "id": "93972219-3656-42fe-abb4-ba143dcc0381",
   "metadata": {},
   "outputs": [],
   "source": [
    "region_str = \"circle[11.8875deg,-25.2886deg], 0.008deg], coord=fk5\"\n",
    "region = regions.Regions.parse(region_str, format='crtf')"
   ]
  },
  {
   "cell_type": "code",
   "execution_count": 10,
   "id": "82565611-ecdf-442c-a19a-be0f7d4bad85",
   "metadata": {},
   "outputs": [],
   "source": [
    "sc_example = SpectralCube.read(path)\n",
    "crop = sc_example.subcube_from_regions(region)"
   ]
  },
  {
   "cell_type": "code",
   "execution_count": 11,
   "id": "f48cb236-c191-4b86-a6f1-56ed1decfd68",
   "metadata": {},
   "outputs": [],
   "source": []
  },
  {
   "cell_type": "code",
   "execution_count": null,
   "id": "5cb1c507-4ca1-4634-b7f9-420145d03ad2",
   "metadata": {},
   "outputs": [],
   "source": []
  },
  {
   "cell_type": "code",
   "execution_count": null,
   "id": "9c80201d-001c-4758-b204-1d1d5ad0b3d1",
   "metadata": {},
   "outputs": [],
   "source": []
  },
  {
   "cell_type": "code",
   "execution_count": 19,
   "id": "bba46dff-2942-450e-ae3c-14e31587c613",
   "metadata": {},
   "outputs": [],
   "source": []
  },
  {
   "cell_type": "code",
   "execution_count": null,
   "id": "9c192cf7-9777-443a-91dd-d51b80410550",
   "metadata": {},
   "outputs": [],
   "source": []
  },
  {
   "cell_type": "code",
   "execution_count": null,
   "id": "6eaafda6-10a9-407f-85c6-cbe1b3dd23f2",
   "metadata": {},
   "outputs": [],
   "source": []
  },
  {
   "cell_type": "code",
   "execution_count": null,
   "id": "2dc783f3-c789-4d8d-929c-50b43495722f",
   "metadata": {},
   "outputs": [],
   "source": []
  },
  {
   "cell_type": "code",
   "execution_count": null,
   "id": "2a339853-1d0e-4700-b41e-46b4262cb3d0",
   "metadata": {},
   "outputs": [],
   "source": []
  },
  {
   "cell_type": "code",
   "execution_count": null,
   "id": "bb91b9ae-5452-46df-a22e-76d9e0c67342",
   "metadata": {},
   "outputs": [],
   "source": []
  },
  {
   "cell_type": "code",
   "execution_count": null,
   "id": "35ff3989-2654-43e0-b76f-221353bda43b",
   "metadata": {},
   "outputs": [],
   "source": []
  },
  {
   "cell_type": "code",
   "execution_count": null,
   "id": "f75eff19-9fbd-45db-978d-96ef04f77524",
   "metadata": {},
   "outputs": [],
   "source": [
    "\n"
   ]
  },
  {
   "cell_type": "code",
   "execution_count": null,
   "id": "b62aedfb-4b7a-44eb-aaed-9699d1eaea25",
   "metadata": {},
   "outputs": [],
   "source": [
    "\n"
   ]
  },
  {
   "cell_type": "code",
   "execution_count": null,
   "id": "ae324c6e-34bc-42b9-bd47-fffc35a3e4c2",
   "metadata": {},
   "outputs": [],
   "source": []
  }
 ],
 "metadata": {
  "kernelspec": {
   "display_name": "Python 3 (ipykernel)",
   "language": "python",
   "name": "python3"
  },
  "language_info": {
   "codemirror_mode": {
    "name": "ipython",
    "version": 3
   },
   "file_extension": ".py",
   "mimetype": "text/x-python",
   "name": "python",
   "nbconvert_exporter": "python",
   "pygments_lexer": "ipython3",
   "version": "3.9.13"
  }
 },
 "nbformat": 4,
 "nbformat_minor": 5
}
