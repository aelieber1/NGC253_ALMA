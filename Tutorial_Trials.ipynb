{
 "cells": [
  {
   "cell_type": "markdown",
   "id": "f183fe71-4efc-4a47-bc27-32b838000729",
   "metadata": {},
   "source": [
    "# Analysis of ALMA NGC 253 Data for Density Tracing Species"
   ]
  },
  {
   "cell_type": "markdown",
   "id": "ecba1eb5-0d2d-4273-92c4-b6a98b210321",
   "metadata": {},
   "source": [
    "## (1) Importing Python packages you will be using"
   ]
  },
  {
   "cell_type": "code",
   "execution_count": 40,
   "id": "2e9ea6a7-6c0e-43c8-92ab-4ed27318e471",
   "metadata": {},
   "outputs": [],
   "source": [
    "#Use this window to import packages you will use later\n",
    "#When you first start working or import a new package, this cell needs to be run before doing anything else.\n",
    "\n",
    "\n",
    "import numpy as np                          # I use this for maths and sometimes arrays.\n",
    "                                            # \"np\" is just an abbreviation since we call this package so often!\n",
    "import pylab                                # I use this for arrays and plotting\n",
    "import matplotlib                           # Another plotting package\n",
    "import matplotlib.gridspec as gridspec      # If there is a task you use a lot, importing it like this \n",
    "                                            # keeps you from having to constantly type \"matplotlib.gridspec\"\n",
    "                                            # every time you call that task!\n",
    "import scipy\n",
    "\n",
    "import astropy.io.fits as fits              # I use this to import FITS images. \n",
    "                                            # Astropy should be included in your conda installation\n",
    "from astropy.wcs import WCS                 # This one helps us add coordinates to images\n",
    "from astropy import units as u              # This one helps with unit conversion\n",
    "from astropy import constants as const\n",
    "\n",
    "import regions\n",
    "\n",
    "import pyspeckit as psk                     # I use this to do spectral line fitting\n",
    "                                            # You probably don't have it installed; \n",
    "                                            # to install, type 'pip install pyspeckit' in a terminal window\n",
    "        \n",
    "from spectral_cube import SpectralCube      # This is a handy package for working with 3D data cubes\n",
    "\n",
    "from reproject import reproject_interp      # Reproject is another useful package you should install\n",
    "from reproject.mosaicking import find_optimal_celestial_wcs \n",
    "\n",
    "\n",
    "                                            # Suppress warnings we don't care about:\n",
    "import sys\n",
    "if not sys.warnoptions:\n",
    "    import warnings\n",
    "    warnings.simplefilter(\"ignore\")\n",
    "\n",
    "                                            # Super important!! \n",
    "                                            # This embeds plots in the Jupyter window \n",
    "                                            # (instead of showing them as pop-ups)\n",
    "%matplotlib inline                             \n",
    "\n",
    "matplotlib.rc('font', family='sans-serif')  # Set plot fonts\n",
    "matplotlib.rc('text', usetex=True)      \n",
    "#matplotlib.rc('text', usetex=False)        # This is a quick fix if you don't have latex on your computer"
   ]
  },
  {
   "cell_type": "code",
   "execution_count": 41,
   "id": "fe72d961-962a-41d4-af62-d52454253994",
   "metadata": {},
   "outputs": [],
   "source": [
    "#path = '/Users/ashleylieber/MIlls_Research/NGC253_AlmaData/HCN4-3.fits'\n",
    "path = '/Users/ashleylieber/MIlls_Research/NGC253_AlmaData/HCN4-3.fits'\n",
    "                                # This string is not just the name of a file, but its full address.\n",
    "                                # If, like this file, it is in the same directory as your notebook,\n",
    "                                # you can specify just the filename. If it lives elsewhere you need\n",
    "                                # to give a relative (e.g., data/name.fits or ../directory/name.fits)\n",
    "                                # or absolute (e.g., EACMills/Project/Data/name.fits) path to the file.\n",
    "\n",
    "\n",
    "                                # The fits images we will work with consist of two main parts:\n",
    "                                # (1) An array of 2-4 dimensions that holds the value of each image pixel \n",
    "                                # (2) A \"header\" which contains a summary of information associated with this array                \n",
    "          \n",
    "\n",
    "image = fits.getdata(path)      # This command reads in the data array part of the fits file, so we can manipulate it \n",
    "                                # like any other python array\n",
    "    \n",
    "header = fits.getheader(path)   # This command reads in the header, which consists of a series of variables \n",
    "                                # and associated values  "
   ]
  },
  {
   "cell_type": "code",
   "execution_count": 42,
   "id": "cdae22ca-7610-458b-bb8f-96dfbb376d25",
   "metadata": {},
   "outputs": [
    {
     "data": {
      "text/plain": [
       "SIMPLE  =                    T /Standard FITS                                   \n",
       "BITPIX  =                  -32 /Floating point (32 bit)                         \n",
       "NAXIS   =                    3                                                  \n",
       "NAXIS1  =                 1800                                                  \n",
       "NAXIS2  =                 1536                                                  \n",
       "NAXIS3  =                   81                                                  \n",
       "EXTEND  =                    T                                                  \n",
       "BSCALE  =   1.000000000000E+00 /PHYSICAL = PIXEL*BSCALE + BZERO                 \n",
       "BZERO   =   0.000000000000E+00                                                  \n",
       "BMAJ    =   4.861111111111E-05                                                  \n",
       "BMIN    =   4.861111111111E-05                                                  \n",
       "BPA     =   0.000000000000E+00                                                  \n",
       "BTYPE   = 'Intensity'                                                           \n",
       "OBJECT  = '        '                                                            \n",
       "                                                                                \n",
       "BUNIT   = 'Jy/beam '           /Brightness (pixel) unit                         \n",
       "EQUINOX =   2.000000000000E+03                                                  \n",
       "RADESYS = 'FK5     '                                                            \n",
       "LONPOLE =   1.800000000000E+02                                                  \n",
       "LATPOLE =  -2.528833333333E+01                                                  \n",
       "PC01_01 =   1.000000000000E+00                                                  \n",
       "PC02_01 =   0.000000000000E+00                                                  \n",
       "PC03_01 =   0.000000000000E+00                                                  \n",
       "PC01_02 =   0.000000000000E+00                                                  \n",
       "PC02_02 =   1.000000000000E+00                                                  \n",
       "PC03_02 =   0.000000000000E+00                                                  \n",
       "PC01_03 =   0.000000000000E+00                                                  \n",
       "PC02_03 =   0.000000000000E+00                                                  \n",
       "PC03_03 =   1.000000000000E+00                                                  \n",
       "CTYPE1  = 'RA---SIN'                                                            \n",
       "CRVAL1  =   1.188791666667E+01                                                  \n",
       "CDELT1  =  -9.166666666667E-06                                                  \n",
       "CRPIX1  =   9.010000000000E+02                                                  \n",
       "CUNIT1  = 'deg     '                                                            \n",
       "CTYPE2  = 'DEC--SIN'                                                            \n",
       "CRVAL2  =  -2.528833333333E+01                                                  \n",
       "CDELT2  =   9.166666666667E-06                                                  \n",
       "CRPIX2  =   7.690000000000E+02                                                  \n",
       "CUNIT2  = 'deg     '                                                            \n",
       "CTYPE3  = 'FREQ    '                                                            \n",
       "CRVAL3  =   3.539816311724E+11                                                  \n",
       "CDELT3  =   5.912514984033E+06                                                  \n",
       "CRPIX3  =   1.000000000000E+00                                                  \n",
       "CUNIT3  = 'Hz      '                                                            \n",
       "PV2_1   =   0.000000000000E+00                                                  \n",
       "PV2_2   =   0.000000000000E+00                                                  \n",
       "RESTFRQ =   3.545054800000E+11 /Rest Frequency (Hz)                             \n",
       "SPECSYS = 'LSRK    '           /Spectral reference frame                        \n",
       "ALTRVAL =   4.430000000000E+05                                                  \n",
       "ALTRPIX =   1.000000000000E+00                                                  \n",
       "VELREF  =                  257 /1 LSR, 2 HEL, 3 OBS, +256 Radio                 \n",
       "COMMENT casacore non-standard usage: 4 LSD, 5 GEO, 6 SOU, 7 GAL                 \n",
       "TELESCOP= 'ALMA    '                                                            \n",
       "OBSERVER= 'bolatto '                                                            \n",
       "DATE-OBS= '2016-04-16T13:21:02.208000'                                          \n",
       "TIMESYS = 'UTC     '                                                            \n",
       "OBSRA   =   1.188791666667E+01                                                  \n",
       "OBSDEC  =  -2.528833333333E+01                                                  \n",
       "OBSGEO-X=   2.225142180269E+06                                                  \n",
       "OBSGEO-Y=  -5.440307370349E+06                                                  \n",
       "OBSGEO-Z=  -2.481029851874E+06                                                  \n",
       "DATE    = '2017-07-01T20:16:52.414566' /Date FITS file was written              \n",
       "ORIGIN  = 'CASA 4.7.38348-REL (r38335)'                                         \n",
       "HISTORY CASA START LOGTABLE                                                     \n",
       "HISTORY 2017-05-11T19:18:11 INFO SRCCODE='::image::pbcor'                       \n",
       "HISTORY Ran ia.pbcor                                                            \n",
       "HISTORY 2017-05-11T19:18:11 INFO SRCCODE='::image::pbcor'                       \n",
       "HISTORY ia.pbcor(pbimage=\"ngc253_hcn43_hires.pb\", outfile=\"ngc253_hcn43_hires_pb\n",
       "HISTORY >corr.image\", overwrite=false, box=\"\", region=\"\", chans=\"\", stokes=\"\", m\n",
       "HISTORY >k=\"\", mode=\"divide\", cutoff=-1.000000, stretch=false)                  \n",
       "HISTORY 2017-05-11T19:21:01 INFO SRCCODE='::image::convolve2d'                  \n",
       "HISTORY Ran ia.convolve2d                                                       \n",
       "HISTORY 2017-05-11T19:21:01 INFO SRCCODE='::image::convolve2d'                  \n",
       "HISTORY ia.convolve2d(outfile=\"ngc253_hcn43_hires_common.image\", axes=[0,1], typ\n",
       "HISTORY >e=\"gaussian\", major=\"0.175arcsec\", minor=\"0.175arcsec\", pa=\"0deg\", scal\n",
       "HISTORY >-1.000000, region={...}, mask=\"\", overwrite=true, stretch=false, targer\n",
       "HISTORY >s=true, beam={...})                                                    \n",
       "HISTORY 2017-06-28T21:24:38 INFO SRCCODE='::fromfits'                           \n",
       "HISTORY Ran ia.fromfits                                                         \n",
       "HISTORY 2017-06-28T21:24:38 INFO SRCCODE='::fromfits'                           \n",
       "HISTORY ia.fromfits(outfile=\"ngc253_hcn43_hires_common.image\", fitsfile=\"ngc253_\n",
       "HISTORY >hcn43_hires_common.fits\", whichrep=0, whichhdu=-1, zeroBlanks=true, ove\n",
       "HISTORY >write=false)                                                           \n",
       "HISTORY 2017-06-28T21:32:46 INFO SRCCODE='::image::continuumsub'                \n",
       "HISTORY Ran ia.continuumsub                                                     \n",
       "HISTORY 2017-06-28T21:32:46 INFO SRCCODE='::image::continuumsub'                \n",
       "HISTORY ia.continuumsub(outline=\"HCN.image\", outcont=\"\", region={...}, channels=\n",
       "HISTORY >[0,1,2,3,4,5,74,75,76,77,78,79], pol=\"\", fitorder=1, overwrite=false)  \n",
       "HISTORY CASA END LOGTABLE                                                       "
      ]
     },
     "execution_count": 42,
     "metadata": {},
     "output_type": "execute_result"
    }
   ],
   "source": [
    "header"
   ]
  },
  {
   "cell_type": "code",
   "execution_count": 5,
   "id": "dce6ed53-4d2e-4d90-a41a-ebe3070283a1",
   "metadata": {},
   "outputs": [],
   "source": [
    "hi_data = fits.open(path)  # Open the FITS file for reading\n",
    "cube = SpectralCube.read(hi_data)  # Initiate a SpectralCube\n",
    "hi_data.close() "
   ]
  },
  {
   "cell_type": "code",
   "execution_count": 6,
   "id": "31606a06-4992-4a30-90ed-6e54d8bae8ac",
   "metadata": {},
   "outputs": [
    {
     "name": "stdout",
     "output_type": "stream",
     "text": [
      "SpectralCube with shape=(81, 1536, 1800) and unit=Jy / beam:\n",
      " n_x:   1800  type_x: RA---SIN  unit_x: deg    range:    11.878802 deg:   11.897042 deg\n",
      " n_y:   1536  type_y: DEC--SIN  unit_y: deg    range:   -25.295373 deg:  -25.281302 deg\n",
      " n_s:     81  type_s: FREQ      unit_s: Hz     range: 353981631172.400 Hz:354454632371.123 Hz\n"
     ]
    }
   ],
   "source": [
    "print(cube)"
   ]
  },
  {
   "cell_type": "markdown",
   "id": "8e04061f-4c50-45b0-93c4-e64add7d11b0",
   "metadata": {
    "tags": []
   },
   "source": [
    "## Attempts to fix frequency - velocity issues"
   ]
  },
  {
   "cell_type": "code",
   "execution_count": 28,
   "id": "93972219-3656-42fe-abb4-ba143dcc0381",
   "metadata": {},
   "outputs": [
    {
     "name": "stdout",
     "output_type": "stream",
     "text": [
      "5.000000000070757 km / s\n"
     ]
    }
   ],
   "source": [
    "# Attempt to adjust Frequency to velcoity issue with equation\n",
    "restfrq, freqdelta = header['RESTFRQ'], header['CDELT3']\n",
    "c = const.c.to(u.km/u.s)\n",
    "adj_velocity = (c * freqdelta) / restfrq\n",
    "print(adj_velocity)"
   ]
  },
  {
   "cell_type": "code",
   "execution_count": 31,
   "id": "26844a34-66a6-41ee-8bf1-1f9d1df9643c",
   "metadata": {},
   "outputs": [
    {
     "name": "stdout",
     "output_type": "stream",
     "text": [
      "SpectralCube with shape=(81, 1536, 1800) and unit=Jy / beam:\n",
      " n_x:   1800  type_x: RA---SIN  unit_x: deg    range:    11.878802 deg:   11.897042 deg\n",
      " n_y:   1536  type_y: DEC--SIN  unit_y: deg    range:   -25.295373 deg:  -25.281302 deg\n",
      " n_s:     81  type_s: VRAD      unit_s: km / s  range:       43.000 km / s:     443.000 km / s\n"
     ]
    }
   ],
   "source": [
    "# Using Spectral cube to obtain the velocity range from the third axis\n",
    "# Reference webpage: https://spectral-cube.readthedocs.io/en/latest/manipulating.html\n",
    "rest_frq = cube.header['RESTFRQ']\n",
    "cube2 = cube.with_spectral_unit(u.km / u.s, velocity_convention='radio',rest_value=rest_frq*u.Hz)\n",
    "print(cube2)"
   ]
  },
  {
   "cell_type": "code",
   "execution_count": 27,
   "id": "b42851d9-6993-4396-a834-2ca83a015c97",
   "metadata": {},
   "outputs": [
    {
     "data": {
      "text/plain": [
       "SIMPLE  =                    T /Standard FITS                                   \n",
       "BITPIX  =                  -32 /Floating point (32 bit)                         \n",
       "NAXIS   =                    3                                                  \n",
       "NAXIS1  =                 1800                                                  \n",
       "NAXIS2  =                 1536                                                  \n",
       "NAXIS3  =                   81                                                  \n",
       "EXTEND  =                    T                                                  \n",
       "BSCALE  =   1.000000000000E+00 /PHYSICAL = PIXEL*BSCALE + BZERO                 \n",
       "BZERO   =   0.000000000000E+00                                                  \n",
       "BMAJ    =   4.861111111111E-05                                                  \n",
       "BMIN    =   4.861111111111E-05                                                  \n",
       "BPA     =   0.000000000000E+00                                                  \n",
       "BTYPE   = 'Intensity'                                                           \n",
       "OBJECT  = '        '                                                            \n",
       "BUNIT   = 'beam-1 Jy'          / Brightness (pixel) unit                        \n",
       "ALTRVAL =   4.430000000000E+05                                                  \n",
       "ALTRPIX =   1.000000000000E+00                                                  \n",
       "VELREF  =                  257 /1 LSR, 2 HEL, 3 OBS, +256 Radio                 \n",
       "COMMENT casacore non-standard usage: 4 LSD, 5 GEO, 6 SOU, 7 GAL                 \n",
       "COMMENT Original Unit=Hz                                                        \n",
       "COMMENT Original Type=FREQ                                                      \n",
       "TELESCOP= 'ALMA    '                                                            \n",
       "OBSERVER= 'bolatto '                                                            \n",
       "OBSRA   =   1.188791666667E+01                                                  \n",
       "OBSDEC  =  -2.528833333333E+01                                                  \n",
       "DATE    = '2017-07-01T20:16:52.414566' /Date FITS file was written              \n",
       "ORIGIN  = 'CASA 4.7.38348-REL (r38335)'                                         \n",
       "BEAM    = 'Beam: BMAJ=0.174999999999996 arcsec BMIN=0.174999999999996 arcsec &' \n",
       "CONTINUE  'BPA=0.0 deg'                                                         \n",
       "WCSAXES =                    3 / Number of coordinate axes                      \n",
       "CRPIX1  =                901.0 / Pixel coordinate of reference point            \n",
       "CRPIX2  =                769.0 / Pixel coordinate of reference point            \n",
       "CRPIX3  =                  1.0 / Pixel coordinate of reference point            \n",
       "CDELT1  =  -9.166666666667E-06 / [deg] Coordinate increment at reference point  \n",
       "CDELT2  =   9.166666666667E-06 / [deg] Coordinate increment at reference point  \n",
       "CDELT3  =   -5.000000000070799 / [m/s] Coordinate increment at reference point  \n",
       "CUNIT1  = 'deg'                / Units of coordinate increment and value        \n",
       "CUNIT2  = 'deg'                / Units of coordinate increment and value        \n",
       "CUNIT3  = 'km s-1  '           / Units of coordinate increment and value        \n",
       "CTYPE1  = 'RA---SIN'           / Right ascension, orthographic/synthesis project\n",
       "CTYPE2  = 'DEC--SIN'           / Declination, orthographic/synthesis projection \n",
       "CTYPE3  = 'VRAD'               / Radio velocity (linear)                        \n",
       "CRVAL1  =       11.88791666667 / [deg] Coordinate value at reference point      \n",
       "CRVAL2  =      -25.28833333333 / [deg] Coordinate value at reference point      \n",
       "CRVAL3  =      443.00000001866 / [m/s] Coordinate value at reference point      \n",
       "PV2_1   =                  0.0 / SIN projection parameter                       \n",
       "PV2_2   =                  0.0 / SIN projection parameter                       \n",
       "LONPOLE =                180.0 / [deg] Native longitude of celestial pole       \n",
       "LATPOLE =      -25.28833333333 / [deg] Native latitude of celestial pole        \n",
       "RESTFRQ =       354505480000.0 / [Hz] Line rest frequency                       \n",
       "TIMESYS = 'UTC'                / Time scale                                     \n",
       "MJDREF  =                  0.0 / [d] MJD of fiducial time                       \n",
       "DATE-OBS= '2016-04-16T13:21:02.208000' / ISO-8601 time of observation           \n",
       "MJD-OBS =      57494.556275556 / [d] MJD of observation                         \n",
       "OBSGEO-X=       2225142.180269 / [m] observatory X-coordinate                   \n",
       "OBSGEO-Y=      -5440307.370349 / [m] observatory Y-coordinate                   \n",
       "OBSGEO-Z=      -2481029.851874 / [m] observatory Z-coordinate                   \n",
       "RADESYS = 'FK5'                / Equatorial coordinate system                   \n",
       "EQUINOX =               2000.0 / [yr] Equinox of equatorial coordinates         \n",
       "SPECSYS = 'LSRK'               / Reference frame of spectral coordinates        \n",
       "HISTORY CASA START LOGTABLE                                                     \n",
       "HISTORY 2017-05-11T19:18:11 INFO SRCCODE='::image::pbcor'                       \n",
       "HISTORY Ran ia.pbcor                                                            \n",
       "HISTORY 2017-05-11T19:18:11 INFO SRCCODE='::image::pbcor'                       \n",
       "HISTORY ia.pbcor(pbimage=\"ngc253_hcn43_hires.pb\", outfile=\"ngc253_hcn43_hires_pb\n",
       "HISTORY >corr.image\", overwrite=false, box=\"\", region=\"\", chans=\"\", stokes=\"\", m\n",
       "HISTORY >k=\"\", mode=\"divide\", cutoff=-1.000000, stretch=false)                  \n",
       "HISTORY 2017-05-11T19:21:01 INFO SRCCODE='::image::convolve2d'                  \n",
       "HISTORY Ran ia.convolve2d                                                       \n",
       "HISTORY 2017-05-11T19:21:01 INFO SRCCODE='::image::convolve2d'                  \n",
       "HISTORY ia.convolve2d(outfile=\"ngc253_hcn43_hires_common.image\", axes=[0,1], typ\n",
       "HISTORY >e=\"gaussian\", major=\"0.175arcsec\", minor=\"0.175arcsec\", pa=\"0deg\", scal\n",
       "HISTORY >-1.000000, region={...}, mask=\"\", overwrite=true, stretch=false, targer\n",
       "HISTORY >s=true, beam={...})                                                    \n",
       "HISTORY 2017-06-28T21:24:38 INFO SRCCODE='::fromfits'                           \n",
       "HISTORY Ran ia.fromfits                                                         \n",
       "HISTORY 2017-06-28T21:24:38 INFO SRCCODE='::fromfits'                           \n",
       "HISTORY ia.fromfits(outfile=\"ngc253_hcn43_hires_common.image\", fitsfile=\"ngc253_\n",
       "HISTORY >hcn43_hires_common.fits\", whichrep=0, whichhdu=-1, zeroBlanks=true, ove\n",
       "HISTORY >write=false)                                                           \n",
       "HISTORY 2017-06-28T21:32:46 INFO SRCCODE='::image::continuumsub'                \n",
       "HISTORY Ran ia.continuumsub                                                     \n",
       "HISTORY 2017-06-28T21:32:46 INFO SRCCODE='::image::continuumsub'                \n",
       "HISTORY ia.continuumsub(outline=\"HCN.image\", outcont=\"\", region={...}, channels=\n",
       "HISTORY >[0,1,2,3,4,5,74,75,76,77,78,79], pol=\"\", fitorder=1, overwrite=false)  \n",
       "HISTORY CASA END LOGTABLE                                                       "
      ]
     },
     "execution_count": 27,
     "metadata": {},
     "output_type": "execute_result"
    }
   ],
   "source": [
    "cube2.header"
   ]
  },
  {
   "cell_type": "code",
   "execution_count": 10,
   "id": "82565611-ecdf-442c-a19a-be0f7d4bad85",
   "metadata": {},
   "outputs": [],
   "source": []
  },
  {
   "cell_type": "code",
   "execution_count": 11,
   "id": "f48cb236-c191-4b86-a6f1-56ed1decfd68",
   "metadata": {},
   "outputs": [],
   "source": []
  },
  {
   "cell_type": "code",
   "execution_count": null,
   "id": "5cb1c507-4ca1-4634-b7f9-420145d03ad2",
   "metadata": {},
   "outputs": [],
   "source": []
  },
  {
   "cell_type": "code",
   "execution_count": null,
   "id": "9c80201d-001c-4758-b204-1d1d5ad0b3d1",
   "metadata": {},
   "outputs": [],
   "source": []
  },
  {
   "cell_type": "code",
   "execution_count": 19,
   "id": "bba46dff-2942-450e-ae3c-14e31587c613",
   "metadata": {},
   "outputs": [],
   "source": []
  },
  {
   "cell_type": "code",
   "execution_count": null,
   "id": "9c192cf7-9777-443a-91dd-d51b80410550",
   "metadata": {},
   "outputs": [],
   "source": []
  },
  {
   "cell_type": "code",
   "execution_count": 18,
   "id": "6eaafda6-10a9-407f-85c6-cbe1b3dd23f2",
   "metadata": {},
   "outputs": [
    {
     "data": {
      "text/plain": [
       "SIMPLE  =                    T /Standard FITS                                   \n",
       "BITPIX  =                  -32 /Floating point (32 bit)                         \n",
       "NAXIS   =                    3                                                  \n",
       "NAXIS1  =                 1800                                                  \n",
       "NAXIS2  =                 1536                                                  \n",
       "NAXIS3  =                   81                                                  \n",
       "EXTEND  =                    T                                                  \n",
       "BSCALE  =   1.000000000000E+00 /PHYSICAL = PIXEL*BSCALE + BZERO                 \n",
       "BZERO   =   0.000000000000E+00                                                  \n",
       "BMAJ    =   4.861111111111E-05                                                  \n",
       "BMIN    =   4.861111111111E-05                                                  \n",
       "BPA     =   0.000000000000E+00                                                  \n",
       "BTYPE   = 'Intensity'                                                           \n",
       "OBJECT  = '        '                                                            \n",
       "BUNIT   = 'beam-1 Jy'          / Brightness (pixel) unit                        \n",
       "ALTRVAL =   4.430000000000E+05                                                  \n",
       "ALTRPIX =   1.000000000000E+00                                                  \n",
       "VELREF  =                  257 /1 LSR, 2 HEL, 3 OBS, +256 Radio                 \n",
       "COMMENT casacore non-standard usage: 4 LSD, 5 GEO, 6 SOU, 7 GAL                 \n",
       "TELESCOP= 'ALMA    '                                                            \n",
       "OBSERVER= 'bolatto '                                                            \n",
       "OBSRA   =   1.188791666667E+01                                                  \n",
       "OBSDEC  =  -2.528833333333E+01                                                  \n",
       "DATE    = '2017-07-01T20:16:52.414566' /Date FITS file was written              \n",
       "ORIGIN  = 'CASA 4.7.38348-REL (r38335)'                                         \n",
       "BEAM    = 'Beam: BMAJ=0.174999999999996 arcsec BMIN=0.174999999999996 arcsec &' \n",
       "CONTINUE  'BPA=0.0 deg'                                                         \n",
       "WCSAXES =                    3 / Number of coordinate axes                      \n",
       "CRPIX1  =                901.0 / Pixel coordinate of reference point            \n",
       "CRPIX2  =                769.0 / Pixel coordinate of reference point            \n",
       "CRPIX3  =                  1.0 / Pixel coordinate of reference point            \n",
       "CDELT1  =  -9.166666666667E-06 / [deg] Coordinate increment at reference point  \n",
       "CDELT2  =   9.166666666667E-06 / [deg] Coordinate increment at reference point  \n",
       "CDELT3  =       5912514.984033 / [Hz] Coordinate increment at reference point   \n",
       "CUNIT1  = 'deg'                / Units of coordinate increment and value        \n",
       "CUNIT2  = 'deg'                / Units of coordinate increment and value        \n",
       "CUNIT3  = 'Hz'                 / Units of coordinate increment and value        \n",
       "CTYPE1  = 'RA---SIN'           / Right ascension, orthographic/synthesis project\n",
       "CTYPE2  = 'DEC--SIN'           / Declination, orthographic/synthesis projection \n",
       "CTYPE3  = 'FREQ'               / Frequency (linear)                             \n",
       "CRVAL1  =       11.88791666667 / [deg] Coordinate value at reference point      \n",
       "CRVAL2  =      -25.28833333333 / [deg] Coordinate value at reference point      \n",
       "CRVAL3  =       353981631172.4 / [Hz] Coordinate value at reference point       \n",
       "PV2_1   =                  0.0 / SIN projection parameter                       \n",
       "PV2_2   =                  0.0 / SIN projection parameter                       \n",
       "LONPOLE =                180.0 / [deg] Native longitude of celestial pole       \n",
       "LATPOLE =      -25.28833333333 / [deg] Native latitude of celestial pole        \n",
       "RESTFRQ =       354505480000.0 / [Hz] Line rest frequency                       \n",
       "TIMESYS = 'UTC'                / Time scale                                     \n",
       "MJDREF  =                  0.0 / [d] MJD of fiducial time                       \n",
       "DATE-OBS= '2016-04-16T13:21:02.208000' / ISO-8601 time of observation           \n",
       "MJD-OBS =      57494.556275556 / [d] MJD of observation                         \n",
       "OBSGEO-X=       2225142.180269 / [m] observatory X-coordinate                   \n",
       "OBSGEO-Y=      -5440307.370349 / [m] observatory Y-coordinate                   \n",
       "OBSGEO-Z=      -2481029.851874 / [m] observatory Z-coordinate                   \n",
       "RADESYS = 'FK5'                / Equatorial coordinate system                   \n",
       "EQUINOX =               2000.0 / [yr] Equinox of equatorial coordinates         \n",
       "SPECSYS = 'LSRK'               / Reference frame of spectral coordinates        \n",
       "HISTORY CASA START LOGTABLE                                                     \n",
       "HISTORY 2017-05-11T19:18:11 INFO SRCCODE='::image::pbcor'                       \n",
       "HISTORY Ran ia.pbcor                                                            \n",
       "HISTORY 2017-05-11T19:18:11 INFO SRCCODE='::image::pbcor'                       \n",
       "HISTORY ia.pbcor(pbimage=\"ngc253_hcn43_hires.pb\", outfile=\"ngc253_hcn43_hires_pb\n",
       "HISTORY >corr.image\", overwrite=false, box=\"\", region=\"\", chans=\"\", stokes=\"\", m\n",
       "HISTORY >k=\"\", mode=\"divide\", cutoff=-1.000000, stretch=false)                  \n",
       "HISTORY 2017-05-11T19:21:01 INFO SRCCODE='::image::convolve2d'                  \n",
       "HISTORY Ran ia.convolve2d                                                       \n",
       "HISTORY 2017-05-11T19:21:01 INFO SRCCODE='::image::convolve2d'                  \n",
       "HISTORY ia.convolve2d(outfile=\"ngc253_hcn43_hires_common.image\", axes=[0,1], typ\n",
       "HISTORY >e=\"gaussian\", major=\"0.175arcsec\", minor=\"0.175arcsec\", pa=\"0deg\", scal\n",
       "HISTORY >-1.000000, region={...}, mask=\"\", overwrite=true, stretch=false, targer\n",
       "HISTORY >s=true, beam={...})                                                    \n",
       "HISTORY 2017-06-28T21:24:38 INFO SRCCODE='::fromfits'                           \n",
       "HISTORY Ran ia.fromfits                                                         \n",
       "HISTORY 2017-06-28T21:24:38 INFO SRCCODE='::fromfits'                           \n",
       "HISTORY ia.fromfits(outfile=\"ngc253_hcn43_hires_common.image\", fitsfile=\"ngc253_\n",
       "HISTORY >hcn43_hires_common.fits\", whichrep=0, whichhdu=-1, zeroBlanks=true, ove\n",
       "HISTORY >write=false)                                                           \n",
       "HISTORY 2017-06-28T21:32:46 INFO SRCCODE='::image::continuumsub'                \n",
       "HISTORY Ran ia.continuumsub                                                     \n",
       "HISTORY 2017-06-28T21:32:46 INFO SRCCODE='::image::continuumsub'                \n",
       "HISTORY ia.continuumsub(outline=\"HCN.image\", outcont=\"\", region={...}, channels=\n",
       "HISTORY >[0,1,2,3,4,5,74,75,76,77,78,79], pol=\"\", fitorder=1, overwrite=false)  \n",
       "HISTORY CASA END LOGTABLE                                                       "
      ]
     },
     "execution_count": 18,
     "metadata": {},
     "output_type": "execute_result"
    }
   ],
   "source": [
    "cube.header"
   ]
  },
  {
   "cell_type": "code",
   "execution_count": 39,
   "id": "2dc783f3-c789-4d8d-929c-50b43495722f",
   "metadata": {},
   "outputs": [
    {
     "ename": "RuntimeError",
     "evalue": "Failed to process string with tex because latex could not be found",
     "output_type": "error",
     "traceback": [
      "\u001b[0;31m---------------------------------------------------------------------------\u001b[0m",
      "\u001b[0;31mFileNotFoundError\u001b[0m                         Traceback (most recent call last)",
      "\u001b[0;32m~/opt/anaconda3/lib/python3.9/site-packages/matplotlib/texmanager.py\u001b[0m in \u001b[0;36m_run_checked_subprocess\u001b[0;34m(self, command, tex, cwd)\u001b[0m\n\u001b[1;32m    232\u001b[0m         \u001b[0;32mtry\u001b[0m\u001b[0;34m:\u001b[0m\u001b[0;34m\u001b[0m\u001b[0;34m\u001b[0m\u001b[0m\n\u001b[0;32m--> 233\u001b[0;31m             report = subprocess.check_output(\n\u001b[0m\u001b[1;32m    234\u001b[0m                 \u001b[0mcommand\u001b[0m\u001b[0;34m,\u001b[0m \u001b[0mcwd\u001b[0m\u001b[0;34m=\u001b[0m\u001b[0mcwd\u001b[0m \u001b[0;32mif\u001b[0m \u001b[0mcwd\u001b[0m \u001b[0;32mis\u001b[0m \u001b[0;32mnot\u001b[0m \u001b[0;32mNone\u001b[0m \u001b[0;32melse\u001b[0m \u001b[0mself\u001b[0m\u001b[0;34m.\u001b[0m\u001b[0mtexcache\u001b[0m\u001b[0;34m,\u001b[0m\u001b[0;34m\u001b[0m\u001b[0;34m\u001b[0m\u001b[0m\n",
      "\u001b[0;32m~/opt/anaconda3/lib/python3.9/subprocess.py\u001b[0m in \u001b[0;36mcheck_output\u001b[0;34m(timeout, *popenargs, **kwargs)\u001b[0m\n\u001b[1;32m    423\u001b[0m \u001b[0;34m\u001b[0m\u001b[0m\n\u001b[0;32m--> 424\u001b[0;31m     return run(*popenargs, stdout=PIPE, timeout=timeout, check=True,\n\u001b[0m\u001b[1;32m    425\u001b[0m                **kwargs).stdout\n",
      "\u001b[0;32m~/opt/anaconda3/lib/python3.9/subprocess.py\u001b[0m in \u001b[0;36mrun\u001b[0;34m(input, capture_output, timeout, check, *popenargs, **kwargs)\u001b[0m\n\u001b[1;32m    504\u001b[0m \u001b[0;34m\u001b[0m\u001b[0m\n\u001b[0;32m--> 505\u001b[0;31m     \u001b[0;32mwith\u001b[0m \u001b[0mPopen\u001b[0m\u001b[0;34m(\u001b[0m\u001b[0;34m*\u001b[0m\u001b[0mpopenargs\u001b[0m\u001b[0;34m,\u001b[0m \u001b[0;34m**\u001b[0m\u001b[0mkwargs\u001b[0m\u001b[0;34m)\u001b[0m \u001b[0;32mas\u001b[0m \u001b[0mprocess\u001b[0m\u001b[0;34m:\u001b[0m\u001b[0;34m\u001b[0m\u001b[0;34m\u001b[0m\u001b[0m\n\u001b[0m\u001b[1;32m    506\u001b[0m         \u001b[0;32mtry\u001b[0m\u001b[0;34m:\u001b[0m\u001b[0;34m\u001b[0m\u001b[0;34m\u001b[0m\u001b[0m\n",
      "\u001b[0;32m~/opt/anaconda3/lib/python3.9/subprocess.py\u001b[0m in \u001b[0;36m__init__\u001b[0;34m(self, args, bufsize, executable, stdin, stdout, stderr, preexec_fn, close_fds, shell, cwd, env, universal_newlines, startupinfo, creationflags, restore_signals, start_new_session, pass_fds, user, group, extra_groups, encoding, errors, text, umask)\u001b[0m\n\u001b[1;32m    950\u001b[0m \u001b[0;34m\u001b[0m\u001b[0m\n\u001b[0;32m--> 951\u001b[0;31m             self._execute_child(args, executable, preexec_fn, close_fds,\n\u001b[0m\u001b[1;32m    952\u001b[0m                                 \u001b[0mpass_fds\u001b[0m\u001b[0;34m,\u001b[0m \u001b[0mcwd\u001b[0m\u001b[0;34m,\u001b[0m \u001b[0menv\u001b[0m\u001b[0;34m,\u001b[0m\u001b[0;34m\u001b[0m\u001b[0;34m\u001b[0m\u001b[0m\n",
      "\u001b[0;32m~/opt/anaconda3/lib/python3.9/subprocess.py\u001b[0m in \u001b[0;36m_execute_child\u001b[0;34m(self, args, executable, preexec_fn, close_fds, pass_fds, cwd, env, startupinfo, creationflags, shell, p2cread, p2cwrite, c2pread, c2pwrite, errread, errwrite, restore_signals, gid, gids, uid, umask, start_new_session)\u001b[0m\n\u001b[1;32m   1820\u001b[0m                         \u001b[0merr_msg\u001b[0m \u001b[0;34m=\u001b[0m \u001b[0mos\u001b[0m\u001b[0;34m.\u001b[0m\u001b[0mstrerror\u001b[0m\u001b[0;34m(\u001b[0m\u001b[0merrno_num\u001b[0m\u001b[0;34m)\u001b[0m\u001b[0;34m\u001b[0m\u001b[0;34m\u001b[0m\u001b[0m\n\u001b[0;32m-> 1821\u001b[0;31m                     \u001b[0;32mraise\u001b[0m \u001b[0mchild_exception_type\u001b[0m\u001b[0;34m(\u001b[0m\u001b[0merrno_num\u001b[0m\u001b[0;34m,\u001b[0m \u001b[0merr_msg\u001b[0m\u001b[0;34m,\u001b[0m \u001b[0merr_filename\u001b[0m\u001b[0;34m)\u001b[0m\u001b[0;34m\u001b[0m\u001b[0;34m\u001b[0m\u001b[0m\n\u001b[0m\u001b[1;32m   1822\u001b[0m                 \u001b[0;32mraise\u001b[0m \u001b[0mchild_exception_type\u001b[0m\u001b[0;34m(\u001b[0m\u001b[0merr_msg\u001b[0m\u001b[0;34m)\u001b[0m\u001b[0;34m\u001b[0m\u001b[0;34m\u001b[0m\u001b[0m\n",
      "\u001b[0;31mFileNotFoundError\u001b[0m: [Errno 2] No such file or directory: 'latex'",
      "\nThe above exception was the direct cause of the following exception:\n",
      "\u001b[0;31mRuntimeError\u001b[0m                              Traceback (most recent call last)",
      "\u001b[0;32m~/opt/anaconda3/lib/python3.9/site-packages/IPython/core/formatters.py\u001b[0m in \u001b[0;36m__call__\u001b[0;34m(self, obj)\u001b[0m\n\u001b[1;32m    339\u001b[0m                 \u001b[0;32mpass\u001b[0m\u001b[0;34m\u001b[0m\u001b[0;34m\u001b[0m\u001b[0m\n\u001b[1;32m    340\u001b[0m             \u001b[0;32melse\u001b[0m\u001b[0;34m:\u001b[0m\u001b[0;34m\u001b[0m\u001b[0;34m\u001b[0m\u001b[0m\n\u001b[0;32m--> 341\u001b[0;31m                 \u001b[0;32mreturn\u001b[0m \u001b[0mprinter\u001b[0m\u001b[0;34m(\u001b[0m\u001b[0mobj\u001b[0m\u001b[0;34m)\u001b[0m\u001b[0;34m\u001b[0m\u001b[0;34m\u001b[0m\u001b[0m\n\u001b[0m\u001b[1;32m    342\u001b[0m             \u001b[0;31m# Finally look for special method names\u001b[0m\u001b[0;34m\u001b[0m\u001b[0;34m\u001b[0m\u001b[0m\n\u001b[1;32m    343\u001b[0m             \u001b[0mmethod\u001b[0m \u001b[0;34m=\u001b[0m \u001b[0mget_real_method\u001b[0m\u001b[0;34m(\u001b[0m\u001b[0mobj\u001b[0m\u001b[0;34m,\u001b[0m \u001b[0mself\u001b[0m\u001b[0;34m.\u001b[0m\u001b[0mprint_method\u001b[0m\u001b[0;34m)\u001b[0m\u001b[0;34m\u001b[0m\u001b[0;34m\u001b[0m\u001b[0m\n",
      "\u001b[0;32m~/opt/anaconda3/lib/python3.9/site-packages/IPython/core/pylabtools.py\u001b[0m in \u001b[0;36mprint_figure\u001b[0;34m(fig, fmt, bbox_inches, base64, **kwargs)\u001b[0m\n\u001b[1;32m    149\u001b[0m         \u001b[0mFigureCanvasBase\u001b[0m\u001b[0;34m(\u001b[0m\u001b[0mfig\u001b[0m\u001b[0;34m)\u001b[0m\u001b[0;34m\u001b[0m\u001b[0;34m\u001b[0m\u001b[0m\n\u001b[1;32m    150\u001b[0m \u001b[0;34m\u001b[0m\u001b[0m\n\u001b[0;32m--> 151\u001b[0;31m     \u001b[0mfig\u001b[0m\u001b[0;34m.\u001b[0m\u001b[0mcanvas\u001b[0m\u001b[0;34m.\u001b[0m\u001b[0mprint_figure\u001b[0m\u001b[0;34m(\u001b[0m\u001b[0mbytes_io\u001b[0m\u001b[0;34m,\u001b[0m \u001b[0;34m**\u001b[0m\u001b[0mkw\u001b[0m\u001b[0;34m)\u001b[0m\u001b[0;34m\u001b[0m\u001b[0;34m\u001b[0m\u001b[0m\n\u001b[0m\u001b[1;32m    152\u001b[0m     \u001b[0mdata\u001b[0m \u001b[0;34m=\u001b[0m \u001b[0mbytes_io\u001b[0m\u001b[0;34m.\u001b[0m\u001b[0mgetvalue\u001b[0m\u001b[0;34m(\u001b[0m\u001b[0;34m)\u001b[0m\u001b[0;34m\u001b[0m\u001b[0;34m\u001b[0m\u001b[0m\n\u001b[1;32m    153\u001b[0m     \u001b[0;32mif\u001b[0m \u001b[0mfmt\u001b[0m \u001b[0;34m==\u001b[0m \u001b[0;34m'svg'\u001b[0m\u001b[0;34m:\u001b[0m\u001b[0;34m\u001b[0m\u001b[0;34m\u001b[0m\u001b[0m\n",
      "\u001b[0;32m~/opt/anaconda3/lib/python3.9/site-packages/matplotlib/backend_bases.py\u001b[0m in \u001b[0;36mprint_figure\u001b[0;34m(self, filename, dpi, facecolor, edgecolor, orientation, format, bbox_inches, pad_inches, bbox_extra_artists, backend, **kwargs)\u001b[0m\n\u001b[1;32m   2293\u001b[0m                 )\n\u001b[1;32m   2294\u001b[0m                 \u001b[0;32mwith\u001b[0m \u001b[0mgetattr\u001b[0m\u001b[0;34m(\u001b[0m\u001b[0mrenderer\u001b[0m\u001b[0;34m,\u001b[0m \u001b[0;34m\"_draw_disabled\"\u001b[0m\u001b[0;34m,\u001b[0m \u001b[0mnullcontext\u001b[0m\u001b[0;34m)\u001b[0m\u001b[0;34m(\u001b[0m\u001b[0;34m)\u001b[0m\u001b[0;34m:\u001b[0m\u001b[0;34m\u001b[0m\u001b[0;34m\u001b[0m\u001b[0m\n\u001b[0;32m-> 2295\u001b[0;31m                     \u001b[0mself\u001b[0m\u001b[0;34m.\u001b[0m\u001b[0mfigure\u001b[0m\u001b[0;34m.\u001b[0m\u001b[0mdraw\u001b[0m\u001b[0;34m(\u001b[0m\u001b[0mrenderer\u001b[0m\u001b[0;34m)\u001b[0m\u001b[0;34m\u001b[0m\u001b[0;34m\u001b[0m\u001b[0m\n\u001b[0m\u001b[1;32m   2296\u001b[0m \u001b[0;34m\u001b[0m\u001b[0m\n\u001b[1;32m   2297\u001b[0m             \u001b[0;32mif\u001b[0m \u001b[0mbbox_inches\u001b[0m\u001b[0;34m:\u001b[0m\u001b[0;34m\u001b[0m\u001b[0;34m\u001b[0m\u001b[0m\n",
      "\u001b[0;32m~/opt/anaconda3/lib/python3.9/site-packages/matplotlib/artist.py\u001b[0m in \u001b[0;36mdraw_wrapper\u001b[0;34m(artist, renderer, *args, **kwargs)\u001b[0m\n\u001b[1;32m     71\u001b[0m     \u001b[0;34m@\u001b[0m\u001b[0mwraps\u001b[0m\u001b[0;34m(\u001b[0m\u001b[0mdraw\u001b[0m\u001b[0;34m)\u001b[0m\u001b[0;34m\u001b[0m\u001b[0;34m\u001b[0m\u001b[0m\n\u001b[1;32m     72\u001b[0m     \u001b[0;32mdef\u001b[0m \u001b[0mdraw_wrapper\u001b[0m\u001b[0;34m(\u001b[0m\u001b[0martist\u001b[0m\u001b[0;34m,\u001b[0m \u001b[0mrenderer\u001b[0m\u001b[0;34m,\u001b[0m \u001b[0;34m*\u001b[0m\u001b[0margs\u001b[0m\u001b[0;34m,\u001b[0m \u001b[0;34m**\u001b[0m\u001b[0mkwargs\u001b[0m\u001b[0;34m)\u001b[0m\u001b[0;34m:\u001b[0m\u001b[0;34m\u001b[0m\u001b[0;34m\u001b[0m\u001b[0m\n\u001b[0;32m---> 73\u001b[0;31m         \u001b[0mresult\u001b[0m \u001b[0;34m=\u001b[0m \u001b[0mdraw\u001b[0m\u001b[0;34m(\u001b[0m\u001b[0martist\u001b[0m\u001b[0;34m,\u001b[0m \u001b[0mrenderer\u001b[0m\u001b[0;34m,\u001b[0m \u001b[0;34m*\u001b[0m\u001b[0margs\u001b[0m\u001b[0;34m,\u001b[0m \u001b[0;34m**\u001b[0m\u001b[0mkwargs\u001b[0m\u001b[0;34m)\u001b[0m\u001b[0;34m\u001b[0m\u001b[0;34m\u001b[0m\u001b[0m\n\u001b[0m\u001b[1;32m     74\u001b[0m         \u001b[0;32mif\u001b[0m \u001b[0mrenderer\u001b[0m\u001b[0;34m.\u001b[0m\u001b[0m_rasterizing\u001b[0m\u001b[0;34m:\u001b[0m\u001b[0;34m\u001b[0m\u001b[0;34m\u001b[0m\u001b[0m\n\u001b[1;32m     75\u001b[0m             \u001b[0mrenderer\u001b[0m\u001b[0;34m.\u001b[0m\u001b[0mstop_rasterizing\u001b[0m\u001b[0;34m(\u001b[0m\u001b[0;34m)\u001b[0m\u001b[0;34m\u001b[0m\u001b[0;34m\u001b[0m\u001b[0m\n",
      "\u001b[0;32m~/opt/anaconda3/lib/python3.9/site-packages/matplotlib/artist.py\u001b[0m in \u001b[0;36mdraw_wrapper\u001b[0;34m(artist, renderer)\u001b[0m\n\u001b[1;32m     48\u001b[0m                 \u001b[0mrenderer\u001b[0m\u001b[0;34m.\u001b[0m\u001b[0mstart_filter\u001b[0m\u001b[0;34m(\u001b[0m\u001b[0;34m)\u001b[0m\u001b[0;34m\u001b[0m\u001b[0;34m\u001b[0m\u001b[0m\n\u001b[1;32m     49\u001b[0m \u001b[0;34m\u001b[0m\u001b[0m\n\u001b[0;32m---> 50\u001b[0;31m             \u001b[0;32mreturn\u001b[0m \u001b[0mdraw\u001b[0m\u001b[0;34m(\u001b[0m\u001b[0martist\u001b[0m\u001b[0;34m,\u001b[0m \u001b[0mrenderer\u001b[0m\u001b[0;34m)\u001b[0m\u001b[0;34m\u001b[0m\u001b[0;34m\u001b[0m\u001b[0m\n\u001b[0m\u001b[1;32m     51\u001b[0m         \u001b[0;32mfinally\u001b[0m\u001b[0;34m:\u001b[0m\u001b[0;34m\u001b[0m\u001b[0;34m\u001b[0m\u001b[0m\n\u001b[1;32m     52\u001b[0m             \u001b[0;32mif\u001b[0m \u001b[0martist\u001b[0m\u001b[0;34m.\u001b[0m\u001b[0mget_agg_filter\u001b[0m\u001b[0;34m(\u001b[0m\u001b[0;34m)\u001b[0m \u001b[0;32mis\u001b[0m \u001b[0;32mnot\u001b[0m \u001b[0;32mNone\u001b[0m\u001b[0;34m:\u001b[0m\u001b[0;34m\u001b[0m\u001b[0;34m\u001b[0m\u001b[0m\n",
      "\u001b[0;32m~/opt/anaconda3/lib/python3.9/site-packages/matplotlib/figure.py\u001b[0m in \u001b[0;36mdraw\u001b[0;34m(self, renderer)\u001b[0m\n\u001b[1;32m   2835\u001b[0m \u001b[0;34m\u001b[0m\u001b[0m\n\u001b[1;32m   2836\u001b[0m             \u001b[0mself\u001b[0m\u001b[0;34m.\u001b[0m\u001b[0mpatch\u001b[0m\u001b[0;34m.\u001b[0m\u001b[0mdraw\u001b[0m\u001b[0;34m(\u001b[0m\u001b[0mrenderer\u001b[0m\u001b[0;34m)\u001b[0m\u001b[0;34m\u001b[0m\u001b[0;34m\u001b[0m\u001b[0m\n\u001b[0;32m-> 2837\u001b[0;31m             mimage._draw_list_compositing_images(\n\u001b[0m\u001b[1;32m   2838\u001b[0m                 renderer, self, artists, self.suppressComposite)\n\u001b[1;32m   2839\u001b[0m \u001b[0;34m\u001b[0m\u001b[0m\n",
      "\u001b[0;32m~/opt/anaconda3/lib/python3.9/site-packages/matplotlib/image.py\u001b[0m in \u001b[0;36m_draw_list_compositing_images\u001b[0;34m(renderer, parent, artists, suppress_composite)\u001b[0m\n\u001b[1;32m    130\u001b[0m     \u001b[0;32mif\u001b[0m \u001b[0mnot_composite\u001b[0m \u001b[0;32mor\u001b[0m \u001b[0;32mnot\u001b[0m \u001b[0mhas_images\u001b[0m\u001b[0;34m:\u001b[0m\u001b[0;34m\u001b[0m\u001b[0;34m\u001b[0m\u001b[0m\n\u001b[1;32m    131\u001b[0m         \u001b[0;32mfor\u001b[0m \u001b[0ma\u001b[0m \u001b[0;32min\u001b[0m \u001b[0martists\u001b[0m\u001b[0;34m:\u001b[0m\u001b[0;34m\u001b[0m\u001b[0;34m\u001b[0m\u001b[0m\n\u001b[0;32m--> 132\u001b[0;31m             \u001b[0ma\u001b[0m\u001b[0;34m.\u001b[0m\u001b[0mdraw\u001b[0m\u001b[0;34m(\u001b[0m\u001b[0mrenderer\u001b[0m\u001b[0;34m)\u001b[0m\u001b[0;34m\u001b[0m\u001b[0;34m\u001b[0m\u001b[0m\n\u001b[0m\u001b[1;32m    133\u001b[0m     \u001b[0;32melse\u001b[0m\u001b[0;34m:\u001b[0m\u001b[0;34m\u001b[0m\u001b[0;34m\u001b[0m\u001b[0m\n\u001b[1;32m    134\u001b[0m         \u001b[0;31m# Composite any adjacent images together\u001b[0m\u001b[0;34m\u001b[0m\u001b[0;34m\u001b[0m\u001b[0m\n",
      "\u001b[0;32m~/opt/anaconda3/lib/python3.9/site-packages/matplotlib/artist.py\u001b[0m in \u001b[0;36mdraw_wrapper\u001b[0;34m(artist, renderer)\u001b[0m\n\u001b[1;32m     48\u001b[0m                 \u001b[0mrenderer\u001b[0m\u001b[0;34m.\u001b[0m\u001b[0mstart_filter\u001b[0m\u001b[0;34m(\u001b[0m\u001b[0;34m)\u001b[0m\u001b[0;34m\u001b[0m\u001b[0;34m\u001b[0m\u001b[0m\n\u001b[1;32m     49\u001b[0m \u001b[0;34m\u001b[0m\u001b[0m\n\u001b[0;32m---> 50\u001b[0;31m             \u001b[0;32mreturn\u001b[0m \u001b[0mdraw\u001b[0m\u001b[0;34m(\u001b[0m\u001b[0martist\u001b[0m\u001b[0;34m,\u001b[0m \u001b[0mrenderer\u001b[0m\u001b[0;34m)\u001b[0m\u001b[0;34m\u001b[0m\u001b[0;34m\u001b[0m\u001b[0m\n\u001b[0m\u001b[1;32m     51\u001b[0m         \u001b[0;32mfinally\u001b[0m\u001b[0;34m:\u001b[0m\u001b[0;34m\u001b[0m\u001b[0;34m\u001b[0m\u001b[0m\n\u001b[1;32m     52\u001b[0m             \u001b[0;32mif\u001b[0m \u001b[0martist\u001b[0m\u001b[0;34m.\u001b[0m\u001b[0mget_agg_filter\u001b[0m\u001b[0;34m(\u001b[0m\u001b[0;34m)\u001b[0m \u001b[0;32mis\u001b[0m \u001b[0;32mnot\u001b[0m \u001b[0;32mNone\u001b[0m\u001b[0;34m:\u001b[0m\u001b[0;34m\u001b[0m\u001b[0;34m\u001b[0m\u001b[0m\n",
      "\u001b[0;32m~/opt/anaconda3/lib/python3.9/site-packages/matplotlib/axes/_base.py\u001b[0m in \u001b[0;36mdraw\u001b[0;34m(self, renderer)\u001b[0m\n\u001b[1;32m   3089\u001b[0m             \u001b[0mrenderer\u001b[0m\u001b[0;34m.\u001b[0m\u001b[0mstop_rasterizing\u001b[0m\u001b[0;34m(\u001b[0m\u001b[0;34m)\u001b[0m\u001b[0;34m\u001b[0m\u001b[0;34m\u001b[0m\u001b[0m\n\u001b[1;32m   3090\u001b[0m \u001b[0;34m\u001b[0m\u001b[0m\n\u001b[0;32m-> 3091\u001b[0;31m         mimage._draw_list_compositing_images(\n\u001b[0m\u001b[1;32m   3092\u001b[0m             renderer, self, artists, self.figure.suppressComposite)\n\u001b[1;32m   3093\u001b[0m \u001b[0;34m\u001b[0m\u001b[0m\n",
      "\u001b[0;32m~/opt/anaconda3/lib/python3.9/site-packages/matplotlib/image.py\u001b[0m in \u001b[0;36m_draw_list_compositing_images\u001b[0;34m(renderer, parent, artists, suppress_composite)\u001b[0m\n\u001b[1;32m    130\u001b[0m     \u001b[0;32mif\u001b[0m \u001b[0mnot_composite\u001b[0m \u001b[0;32mor\u001b[0m \u001b[0;32mnot\u001b[0m \u001b[0mhas_images\u001b[0m\u001b[0;34m:\u001b[0m\u001b[0;34m\u001b[0m\u001b[0;34m\u001b[0m\u001b[0m\n\u001b[1;32m    131\u001b[0m         \u001b[0;32mfor\u001b[0m \u001b[0ma\u001b[0m \u001b[0;32min\u001b[0m \u001b[0martists\u001b[0m\u001b[0;34m:\u001b[0m\u001b[0;34m\u001b[0m\u001b[0;34m\u001b[0m\u001b[0m\n\u001b[0;32m--> 132\u001b[0;31m             \u001b[0ma\u001b[0m\u001b[0;34m.\u001b[0m\u001b[0mdraw\u001b[0m\u001b[0;34m(\u001b[0m\u001b[0mrenderer\u001b[0m\u001b[0;34m)\u001b[0m\u001b[0;34m\u001b[0m\u001b[0;34m\u001b[0m\u001b[0m\n\u001b[0m\u001b[1;32m    133\u001b[0m     \u001b[0;32melse\u001b[0m\u001b[0;34m:\u001b[0m\u001b[0;34m\u001b[0m\u001b[0;34m\u001b[0m\u001b[0m\n\u001b[1;32m    134\u001b[0m         \u001b[0;31m# Composite any adjacent images together\u001b[0m\u001b[0;34m\u001b[0m\u001b[0;34m\u001b[0m\u001b[0m\n",
      "\u001b[0;32m~/opt/anaconda3/lib/python3.9/site-packages/matplotlib/artist.py\u001b[0m in \u001b[0;36mdraw_wrapper\u001b[0;34m(artist, renderer)\u001b[0m\n\u001b[1;32m     48\u001b[0m                 \u001b[0mrenderer\u001b[0m\u001b[0;34m.\u001b[0m\u001b[0mstart_filter\u001b[0m\u001b[0;34m(\u001b[0m\u001b[0;34m)\u001b[0m\u001b[0;34m\u001b[0m\u001b[0;34m\u001b[0m\u001b[0m\n\u001b[1;32m     49\u001b[0m \u001b[0;34m\u001b[0m\u001b[0m\n\u001b[0;32m---> 50\u001b[0;31m             \u001b[0;32mreturn\u001b[0m \u001b[0mdraw\u001b[0m\u001b[0;34m(\u001b[0m\u001b[0martist\u001b[0m\u001b[0;34m,\u001b[0m \u001b[0mrenderer\u001b[0m\u001b[0;34m)\u001b[0m\u001b[0;34m\u001b[0m\u001b[0;34m\u001b[0m\u001b[0m\n\u001b[0m\u001b[1;32m     51\u001b[0m         \u001b[0;32mfinally\u001b[0m\u001b[0;34m:\u001b[0m\u001b[0;34m\u001b[0m\u001b[0;34m\u001b[0m\u001b[0m\n\u001b[1;32m     52\u001b[0m             \u001b[0;32mif\u001b[0m \u001b[0martist\u001b[0m\u001b[0;34m.\u001b[0m\u001b[0mget_agg_filter\u001b[0m\u001b[0;34m(\u001b[0m\u001b[0;34m)\u001b[0m \u001b[0;32mis\u001b[0m \u001b[0;32mnot\u001b[0m \u001b[0;32mNone\u001b[0m\u001b[0;34m:\u001b[0m\u001b[0;34m\u001b[0m\u001b[0;34m\u001b[0m\u001b[0m\n",
      "\u001b[0;32m~/opt/anaconda3/lib/python3.9/site-packages/matplotlib/axis.py\u001b[0m in \u001b[0;36mdraw\u001b[0;34m(self, renderer, *args, **kwargs)\u001b[0m\n\u001b[1;32m   1157\u001b[0m \u001b[0;34m\u001b[0m\u001b[0m\n\u001b[1;32m   1158\u001b[0m         \u001b[0mticks_to_draw\u001b[0m \u001b[0;34m=\u001b[0m \u001b[0mself\u001b[0m\u001b[0;34m.\u001b[0m\u001b[0m_update_ticks\u001b[0m\u001b[0;34m(\u001b[0m\u001b[0;34m)\u001b[0m\u001b[0;34m\u001b[0m\u001b[0;34m\u001b[0m\u001b[0m\n\u001b[0;32m-> 1159\u001b[0;31m         ticklabelBoxes, ticklabelBoxes2 = self._get_tick_bboxes(ticks_to_draw,\n\u001b[0m\u001b[1;32m   1160\u001b[0m                                                                 renderer)\n\u001b[1;32m   1161\u001b[0m \u001b[0;34m\u001b[0m\u001b[0m\n",
      "\u001b[0;32m~/opt/anaconda3/lib/python3.9/site-packages/matplotlib/axis.py\u001b[0m in \u001b[0;36m_get_tick_bboxes\u001b[0;34m(self, ticks, renderer)\u001b[0m\n\u001b[1;32m   1083\u001b[0m     \u001b[0;32mdef\u001b[0m \u001b[0m_get_tick_bboxes\u001b[0m\u001b[0;34m(\u001b[0m\u001b[0mself\u001b[0m\u001b[0;34m,\u001b[0m \u001b[0mticks\u001b[0m\u001b[0;34m,\u001b[0m \u001b[0mrenderer\u001b[0m\u001b[0;34m)\u001b[0m\u001b[0;34m:\u001b[0m\u001b[0;34m\u001b[0m\u001b[0;34m\u001b[0m\u001b[0m\n\u001b[1;32m   1084\u001b[0m         \u001b[0;34m\"\"\"Return lists of bboxes for ticks' label1's and label2's.\"\"\"\u001b[0m\u001b[0;34m\u001b[0m\u001b[0;34m\u001b[0m\u001b[0m\n\u001b[0;32m-> 1085\u001b[0;31m         return ([tick.label1.get_window_extent(renderer)\n\u001b[0m\u001b[1;32m   1086\u001b[0m                  for tick in ticks if tick.label1.get_visible()],\n\u001b[1;32m   1087\u001b[0m                 [tick.label2.get_window_extent(renderer)\n",
      "\u001b[0;32m~/opt/anaconda3/lib/python3.9/site-packages/matplotlib/axis.py\u001b[0m in \u001b[0;36m<listcomp>\u001b[0;34m(.0)\u001b[0m\n\u001b[1;32m   1083\u001b[0m     \u001b[0;32mdef\u001b[0m \u001b[0m_get_tick_bboxes\u001b[0m\u001b[0;34m(\u001b[0m\u001b[0mself\u001b[0m\u001b[0;34m,\u001b[0m \u001b[0mticks\u001b[0m\u001b[0;34m,\u001b[0m \u001b[0mrenderer\u001b[0m\u001b[0;34m)\u001b[0m\u001b[0;34m:\u001b[0m\u001b[0;34m\u001b[0m\u001b[0;34m\u001b[0m\u001b[0m\n\u001b[1;32m   1084\u001b[0m         \u001b[0;34m\"\"\"Return lists of bboxes for ticks' label1's and label2's.\"\"\"\u001b[0m\u001b[0;34m\u001b[0m\u001b[0;34m\u001b[0m\u001b[0m\n\u001b[0;32m-> 1085\u001b[0;31m         return ([tick.label1.get_window_extent(renderer)\n\u001b[0m\u001b[1;32m   1086\u001b[0m                  for tick in ticks if tick.label1.get_visible()],\n\u001b[1;32m   1087\u001b[0m                 [tick.label2.get_window_extent(renderer)\n",
      "\u001b[0;32m~/opt/anaconda3/lib/python3.9/site-packages/matplotlib/text.py\u001b[0m in \u001b[0;36mget_window_extent\u001b[0;34m(self, renderer, dpi)\u001b[0m\n\u001b[1;32m    908\u001b[0m \u001b[0;34m\u001b[0m\u001b[0m\n\u001b[1;32m    909\u001b[0m         \u001b[0;32mwith\u001b[0m \u001b[0mcbook\u001b[0m\u001b[0;34m.\u001b[0m\u001b[0m_setattr_cm\u001b[0m\u001b[0;34m(\u001b[0m\u001b[0mself\u001b[0m\u001b[0;34m.\u001b[0m\u001b[0mfigure\u001b[0m\u001b[0;34m,\u001b[0m \u001b[0mdpi\u001b[0m\u001b[0;34m=\u001b[0m\u001b[0mdpi\u001b[0m\u001b[0;34m)\u001b[0m\u001b[0;34m:\u001b[0m\u001b[0;34m\u001b[0m\u001b[0;34m\u001b[0m\u001b[0m\n\u001b[0;32m--> 910\u001b[0;31m             \u001b[0mbbox\u001b[0m\u001b[0;34m,\u001b[0m \u001b[0minfo\u001b[0m\u001b[0;34m,\u001b[0m \u001b[0mdescent\u001b[0m \u001b[0;34m=\u001b[0m \u001b[0mself\u001b[0m\u001b[0;34m.\u001b[0m\u001b[0m_get_layout\u001b[0m\u001b[0;34m(\u001b[0m\u001b[0mself\u001b[0m\u001b[0;34m.\u001b[0m\u001b[0m_renderer\u001b[0m\u001b[0;34m)\u001b[0m\u001b[0;34m\u001b[0m\u001b[0;34m\u001b[0m\u001b[0m\n\u001b[0m\u001b[1;32m    911\u001b[0m             \u001b[0mx\u001b[0m\u001b[0;34m,\u001b[0m \u001b[0my\u001b[0m \u001b[0;34m=\u001b[0m \u001b[0mself\u001b[0m\u001b[0;34m.\u001b[0m\u001b[0mget_unitless_position\u001b[0m\u001b[0;34m(\u001b[0m\u001b[0;34m)\u001b[0m\u001b[0;34m\u001b[0m\u001b[0;34m\u001b[0m\u001b[0m\n\u001b[1;32m    912\u001b[0m             \u001b[0mx\u001b[0m\u001b[0;34m,\u001b[0m \u001b[0my\u001b[0m \u001b[0;34m=\u001b[0m \u001b[0mself\u001b[0m\u001b[0;34m.\u001b[0m\u001b[0mget_transform\u001b[0m\u001b[0;34m(\u001b[0m\u001b[0;34m)\u001b[0m\u001b[0;34m.\u001b[0m\u001b[0mtransform\u001b[0m\u001b[0;34m(\u001b[0m\u001b[0;34m(\u001b[0m\u001b[0mx\u001b[0m\u001b[0;34m,\u001b[0m \u001b[0my\u001b[0m\u001b[0;34m)\u001b[0m\u001b[0;34m)\u001b[0m\u001b[0;34m\u001b[0m\u001b[0;34m\u001b[0m\u001b[0m\n",
      "\u001b[0;32m~/opt/anaconda3/lib/python3.9/site-packages/matplotlib/text.py\u001b[0m in \u001b[0;36m_get_layout\u001b[0;34m(self, renderer)\u001b[0m\n\u001b[1;32m    307\u001b[0m \u001b[0;34m\u001b[0m\u001b[0m\n\u001b[1;32m    308\u001b[0m         \u001b[0;31m# Full vertical extent of font, including ascenders and descenders:\u001b[0m\u001b[0;34m\u001b[0m\u001b[0;34m\u001b[0m\u001b[0m\n\u001b[0;32m--> 309\u001b[0;31m         _, lp_h, lp_d = renderer.get_text_width_height_descent(\n\u001b[0m\u001b[1;32m    310\u001b[0m             \u001b[0;34m\"lp\"\u001b[0m\u001b[0;34m,\u001b[0m \u001b[0mself\u001b[0m\u001b[0;34m.\u001b[0m\u001b[0m_fontproperties\u001b[0m\u001b[0;34m,\u001b[0m\u001b[0;34m\u001b[0m\u001b[0;34m\u001b[0m\u001b[0m\n\u001b[1;32m    311\u001b[0m             ismath=\"TeX\" if self.get_usetex() else False)\n",
      "\u001b[0;32m~/opt/anaconda3/lib/python3.9/site-packages/matplotlib/backends/backend_agg.py\u001b[0m in \u001b[0;36mget_text_width_height_descent\u001b[0;34m(self, s, prop, ismath)\u001b[0m\n\u001b[1;32m    257\u001b[0m             \u001b[0mtexmanager\u001b[0m \u001b[0;34m=\u001b[0m \u001b[0mself\u001b[0m\u001b[0;34m.\u001b[0m\u001b[0mget_texmanager\u001b[0m\u001b[0;34m(\u001b[0m\u001b[0;34m)\u001b[0m\u001b[0;34m\u001b[0m\u001b[0;34m\u001b[0m\u001b[0m\n\u001b[1;32m    258\u001b[0m             \u001b[0mfontsize\u001b[0m \u001b[0;34m=\u001b[0m \u001b[0mprop\u001b[0m\u001b[0;34m.\u001b[0m\u001b[0mget_size_in_points\u001b[0m\u001b[0;34m(\u001b[0m\u001b[0;34m)\u001b[0m\u001b[0;34m\u001b[0m\u001b[0;34m\u001b[0m\u001b[0m\n\u001b[0;32m--> 259\u001b[0;31m             w, h, d = texmanager.get_text_width_height_descent(\n\u001b[0m\u001b[1;32m    260\u001b[0m                 s, fontsize, renderer=self)\n\u001b[1;32m    261\u001b[0m             \u001b[0;32mreturn\u001b[0m \u001b[0mw\u001b[0m\u001b[0;34m,\u001b[0m \u001b[0mh\u001b[0m\u001b[0;34m,\u001b[0m \u001b[0md\u001b[0m\u001b[0;34m\u001b[0m\u001b[0;34m\u001b[0m\u001b[0m\n",
      "\u001b[0;32m~/opt/anaconda3/lib/python3.9/site-packages/matplotlib/texmanager.py\u001b[0m in \u001b[0;36mget_text_width_height_descent\u001b[0;34m(self, tex, fontsize, renderer)\u001b[0m\n\u001b[1;32m    333\u001b[0m         \u001b[0;32mif\u001b[0m \u001b[0mtex\u001b[0m\u001b[0;34m.\u001b[0m\u001b[0mstrip\u001b[0m\u001b[0;34m(\u001b[0m\u001b[0;34m)\u001b[0m \u001b[0;34m==\u001b[0m \u001b[0;34m''\u001b[0m\u001b[0;34m:\u001b[0m\u001b[0;34m\u001b[0m\u001b[0;34m\u001b[0m\u001b[0m\n\u001b[1;32m    334\u001b[0m             \u001b[0;32mreturn\u001b[0m \u001b[0;36m0\u001b[0m\u001b[0;34m,\u001b[0m \u001b[0;36m0\u001b[0m\u001b[0;34m,\u001b[0m \u001b[0;36m0\u001b[0m\u001b[0;34m\u001b[0m\u001b[0;34m\u001b[0m\u001b[0m\n\u001b[0;32m--> 335\u001b[0;31m         \u001b[0mdvifile\u001b[0m \u001b[0;34m=\u001b[0m \u001b[0mself\u001b[0m\u001b[0;34m.\u001b[0m\u001b[0mmake_dvi\u001b[0m\u001b[0;34m(\u001b[0m\u001b[0mtex\u001b[0m\u001b[0;34m,\u001b[0m \u001b[0mfontsize\u001b[0m\u001b[0;34m)\u001b[0m\u001b[0;34m\u001b[0m\u001b[0;34m\u001b[0m\u001b[0m\n\u001b[0m\u001b[1;32m    336\u001b[0m         \u001b[0mdpi_fraction\u001b[0m \u001b[0;34m=\u001b[0m \u001b[0mrenderer\u001b[0m\u001b[0;34m.\u001b[0m\u001b[0mpoints_to_pixels\u001b[0m\u001b[0;34m(\u001b[0m\u001b[0;36m1.\u001b[0m\u001b[0;34m)\u001b[0m \u001b[0;32mif\u001b[0m \u001b[0mrenderer\u001b[0m \u001b[0;32melse\u001b[0m \u001b[0;36m1\u001b[0m\u001b[0;34m\u001b[0m\u001b[0;34m\u001b[0m\u001b[0m\n\u001b[1;32m    337\u001b[0m         \u001b[0;32mwith\u001b[0m \u001b[0mdviread\u001b[0m\u001b[0;34m.\u001b[0m\u001b[0mDvi\u001b[0m\u001b[0;34m(\u001b[0m\u001b[0mdvifile\u001b[0m\u001b[0;34m,\u001b[0m \u001b[0;36m72\u001b[0m \u001b[0;34m*\u001b[0m \u001b[0mdpi_fraction\u001b[0m\u001b[0;34m)\u001b[0m \u001b[0;32mas\u001b[0m \u001b[0mdvi\u001b[0m\u001b[0;34m:\u001b[0m\u001b[0;34m\u001b[0m\u001b[0;34m\u001b[0m\u001b[0m\n",
      "\u001b[0;32m~/opt/anaconda3/lib/python3.9/site-packages/matplotlib/texmanager.py\u001b[0m in \u001b[0;36mmake_dvi\u001b[0;34m(self, tex, fontsize)\u001b[0m\n\u001b[1;32m    269\u001b[0m             \u001b[0;31m# not support.)\u001b[0m\u001b[0;34m\u001b[0m\u001b[0;34m\u001b[0m\u001b[0m\n\u001b[1;32m    270\u001b[0m             \u001b[0;32mwith\u001b[0m \u001b[0mTemporaryDirectory\u001b[0m\u001b[0;34m(\u001b[0m\u001b[0mdir\u001b[0m\u001b[0;34m=\u001b[0m\u001b[0mPath\u001b[0m\u001b[0;34m(\u001b[0m\u001b[0mdvifile\u001b[0m\u001b[0;34m)\u001b[0m\u001b[0;34m.\u001b[0m\u001b[0mparent\u001b[0m\u001b[0;34m)\u001b[0m \u001b[0;32mas\u001b[0m \u001b[0mtmpdir\u001b[0m\u001b[0;34m:\u001b[0m\u001b[0;34m\u001b[0m\u001b[0;34m\u001b[0m\u001b[0m\n\u001b[0;32m--> 271\u001b[0;31m                 self._run_checked_subprocess(\n\u001b[0m\u001b[1;32m    272\u001b[0m                     [\"latex\", \"-interaction=nonstopmode\", \"--halt-on-error\",\n\u001b[1;32m    273\u001b[0m                      f\"../{texfile.name}\"], tex, cwd=tmpdir)\n",
      "\u001b[0;32m~/opt/anaconda3/lib/python3.9/site-packages/matplotlib/texmanager.py\u001b[0m in \u001b[0;36m_run_checked_subprocess\u001b[0;34m(self, command, tex, cwd)\u001b[0m\n\u001b[1;32m    235\u001b[0m                 stderr=subprocess.STDOUT)\n\u001b[1;32m    236\u001b[0m         \u001b[0;32mexcept\u001b[0m \u001b[0mFileNotFoundError\u001b[0m \u001b[0;32mas\u001b[0m \u001b[0mexc\u001b[0m\u001b[0;34m:\u001b[0m\u001b[0;34m\u001b[0m\u001b[0;34m\u001b[0m\u001b[0m\n\u001b[0;32m--> 237\u001b[0;31m             raise RuntimeError(\n\u001b[0m\u001b[1;32m    238\u001b[0m                 \u001b[0;34m'Failed to process string with tex because {} could not be '\u001b[0m\u001b[0;34m\u001b[0m\u001b[0;34m\u001b[0m\u001b[0m\n\u001b[1;32m    239\u001b[0m                 'found'.format(command[0])) from exc\n",
      "\u001b[0;31mRuntimeError\u001b[0m: Failed to process string with tex because latex could not be found"
     ]
    },
    {
     "data": {
      "text/plain": [
       "<Figure size 640x480 with 1 Axes>"
      ]
     },
     "metadata": {},
     "output_type": "display_data"
    }
   ],
   "source": [
    "cube2[50,:,:].quicklook() # show an image  \n"
   ]
  },
  {
   "cell_type": "code",
   "execution_count": 36,
   "id": "2a339853-1d0e-4700-b41e-46b4262cb3d0",
   "metadata": {},
   "outputs": [],
   "source": [
    "w1 = WCS(cube2.header)"
   ]
  },
  {
   "cell_type": "code",
   "execution_count": 37,
   "id": "bb91b9ae-5452-46df-a22e-76d9e0c67342",
   "metadata": {},
   "outputs": [
    {
     "data": {
      "text/plain": [
       "WCS Keywords\n",
       "\n",
       "Number of WCS axes: 3\n",
       "CTYPE : 'RA---SIN'  'DEC--SIN'  'VRAD'  \n",
       "CRVAL : 11.88791666667  -25.28833333333  443000.00001866  \n",
       "CRPIX : 901.0  769.0  1.0  \n",
       "PC1_1 PC1_2 PC1_3  : 1.0  0.0  0.0  \n",
       "PC2_1 PC2_2 PC2_3  : 0.0  1.0  0.0  \n",
       "PC3_1 PC3_2 PC3_3  : 0.0  0.0  1.0  \n",
       "CDELT : -9.166666666667e-06  9.166666666667e-06  -5000.0000000708  \n",
       "NAXIS : 1800  1536  81"
      ]
     },
     "execution_count": 37,
     "metadata": {},
     "output_type": "execute_result"
    }
   ],
   "source": [
    "w1"
   ]
  },
  {
   "cell_type": "code",
   "execution_count": 38,
   "id": "35ff3989-2654-43e0-b76f-221353bda43b",
   "metadata": {},
   "outputs": [
    {
     "ename": "ValueError",
     "evalue": "WCS has more than 2 pixel dimensions, so 'slices' should be set",
     "output_type": "error",
     "traceback": [
      "\u001b[0;31m---------------------------------------------------------------------------\u001b[0m",
      "\u001b[0;31mValueError\u001b[0m                                Traceback (most recent call last)",
      "\u001b[0;32m/var/folders/m_/6w36s5f17kl3wrv42q59syqr0000gq/T/ipykernel_14845/2422652766.py\u001b[0m in \u001b[0;36m<module>\u001b[0;34m\u001b[0m\n\u001b[1;32m      2\u001b[0m \u001b[0;34m\u001b[0m\u001b[0m\n\u001b[1;32m      3\u001b[0m                                              \u001b[0;31m# We also want to make sure that our image is plotted with sky coordinates\u001b[0m\u001b[0;34m\u001b[0m\u001b[0;34m\u001b[0m\u001b[0m\n\u001b[0;32m----> 4\u001b[0;31m \u001b[0max1\u001b[0m \u001b[0;34m=\u001b[0m \u001b[0mpylab\u001b[0m\u001b[0;34m.\u001b[0m\u001b[0msubplot\u001b[0m\u001b[0;34m(\u001b[0m\u001b[0mprojection\u001b[0m\u001b[0;34m=\u001b[0m\u001b[0mw1\u001b[0m\u001b[0;34m)\u001b[0m            \u001b[0;31m# We do this by specifying a projection (the wcs from the previous cell)\u001b[0m\u001b[0;34m\u001b[0m\u001b[0;34m\u001b[0m\u001b[0m\n\u001b[0m\u001b[1;32m      5\u001b[0m \u001b[0mRA\u001b[0m \u001b[0;34m=\u001b[0m \u001b[0max1\u001b[0m\u001b[0;34m.\u001b[0m\u001b[0mcoords\u001b[0m\u001b[0;34m[\u001b[0m\u001b[0;36m0\u001b[0m\u001b[0;34m]\u001b[0m\u001b[0;34m\u001b[0m\u001b[0;34m\u001b[0m\u001b[0m\n\u001b[1;32m      6\u001b[0m \u001b[0mDec\u001b[0m \u001b[0;34m=\u001b[0m \u001b[0max1\u001b[0m\u001b[0;34m.\u001b[0m\u001b[0mcoords\u001b[0m\u001b[0;34m[\u001b[0m\u001b[0;36m1\u001b[0m\u001b[0;34m]\u001b[0m\u001b[0;34m\u001b[0m\u001b[0;34m\u001b[0m\u001b[0m\n",
      "\u001b[0;32m~/opt/anaconda3/lib/python3.9/site-packages/matplotlib/pyplot.py\u001b[0m in \u001b[0;36msubplot\u001b[0;34m(*args, **kwargs)\u001b[0m\n\u001b[1;32m   1302\u001b[0m     \u001b[0;32melse\u001b[0m\u001b[0;34m:\u001b[0m\u001b[0;34m\u001b[0m\u001b[0;34m\u001b[0m\u001b[0m\n\u001b[1;32m   1303\u001b[0m         \u001b[0;31m# we have exhausted the known Axes and none match, make a new one!\u001b[0m\u001b[0;34m\u001b[0m\u001b[0;34m\u001b[0m\u001b[0m\n\u001b[0;32m-> 1304\u001b[0;31m         \u001b[0max\u001b[0m \u001b[0;34m=\u001b[0m \u001b[0mfig\u001b[0m\u001b[0;34m.\u001b[0m\u001b[0madd_subplot\u001b[0m\u001b[0;34m(\u001b[0m\u001b[0;34m*\u001b[0m\u001b[0margs\u001b[0m\u001b[0;34m,\u001b[0m \u001b[0;34m**\u001b[0m\u001b[0mkwargs\u001b[0m\u001b[0;34m)\u001b[0m\u001b[0;34m\u001b[0m\u001b[0;34m\u001b[0m\u001b[0m\n\u001b[0m\u001b[1;32m   1305\u001b[0m \u001b[0;34m\u001b[0m\u001b[0m\n\u001b[1;32m   1306\u001b[0m     \u001b[0mfig\u001b[0m\u001b[0;34m.\u001b[0m\u001b[0msca\u001b[0m\u001b[0;34m(\u001b[0m\u001b[0max\u001b[0m\u001b[0;34m)\u001b[0m\u001b[0;34m\u001b[0m\u001b[0;34m\u001b[0m\u001b[0m\n",
      "\u001b[0;32m~/opt/anaconda3/lib/python3.9/site-packages/matplotlib/figure.py\u001b[0m in \u001b[0;36madd_subplot\u001b[0;34m(self, *args, **kwargs)\u001b[0m\n\u001b[1;32m    770\u001b[0m             projection_class, pkw = self._process_projection_requirements(\n\u001b[1;32m    771\u001b[0m                 *args, **kwargs)\n\u001b[0;32m--> 772\u001b[0;31m             \u001b[0max\u001b[0m \u001b[0;34m=\u001b[0m \u001b[0msubplot_class_factory\u001b[0m\u001b[0;34m(\u001b[0m\u001b[0mprojection_class\u001b[0m\u001b[0;34m)\u001b[0m\u001b[0;34m(\u001b[0m\u001b[0mself\u001b[0m\u001b[0;34m,\u001b[0m \u001b[0;34m*\u001b[0m\u001b[0margs\u001b[0m\u001b[0;34m,\u001b[0m \u001b[0;34m**\u001b[0m\u001b[0mpkw\u001b[0m\u001b[0;34m)\u001b[0m\u001b[0;34m\u001b[0m\u001b[0;34m\u001b[0m\u001b[0m\n\u001b[0m\u001b[1;32m    773\u001b[0m             \u001b[0mkey\u001b[0m \u001b[0;34m=\u001b[0m \u001b[0;34m(\u001b[0m\u001b[0mprojection_class\u001b[0m\u001b[0;34m,\u001b[0m \u001b[0mpkw\u001b[0m\u001b[0;34m)\u001b[0m\u001b[0;34m\u001b[0m\u001b[0;34m\u001b[0m\u001b[0m\n\u001b[1;32m    774\u001b[0m         \u001b[0;32mreturn\u001b[0m \u001b[0mself\u001b[0m\u001b[0;34m.\u001b[0m\u001b[0m_add_axes_internal\u001b[0m\u001b[0;34m(\u001b[0m\u001b[0max\u001b[0m\u001b[0;34m,\u001b[0m \u001b[0mkey\u001b[0m\u001b[0;34m)\u001b[0m\u001b[0;34m\u001b[0m\u001b[0;34m\u001b[0m\u001b[0m\n",
      "\u001b[0;32m~/opt/anaconda3/lib/python3.9/site-packages/matplotlib/axes/_subplots.py\u001b[0m in \u001b[0;36m__init__\u001b[0;34m(self, fig, *args, **kwargs)\u001b[0m\n\u001b[1;32m     32\u001b[0m         \"\"\"\n\u001b[1;32m     33\u001b[0m         \u001b[0;31m# _axes_class is set in the subplot_class_factory\u001b[0m\u001b[0;34m\u001b[0m\u001b[0;34m\u001b[0m\u001b[0m\n\u001b[0;32m---> 34\u001b[0;31m         \u001b[0mself\u001b[0m\u001b[0;34m.\u001b[0m\u001b[0m_axes_class\u001b[0m\u001b[0;34m.\u001b[0m\u001b[0m__init__\u001b[0m\u001b[0;34m(\u001b[0m\u001b[0mself\u001b[0m\u001b[0;34m,\u001b[0m \u001b[0mfig\u001b[0m\u001b[0;34m,\u001b[0m \u001b[0;34m[\u001b[0m\u001b[0;36m0\u001b[0m\u001b[0;34m,\u001b[0m \u001b[0;36m0\u001b[0m\u001b[0;34m,\u001b[0m \u001b[0;36m1\u001b[0m\u001b[0;34m,\u001b[0m \u001b[0;36m1\u001b[0m\u001b[0;34m]\u001b[0m\u001b[0;34m,\u001b[0m \u001b[0;34m**\u001b[0m\u001b[0mkwargs\u001b[0m\u001b[0;34m)\u001b[0m\u001b[0;34m\u001b[0m\u001b[0;34m\u001b[0m\u001b[0m\n\u001b[0m\u001b[1;32m     35\u001b[0m         \u001b[0;31m# This will also update the axes position.\u001b[0m\u001b[0;34m\u001b[0m\u001b[0;34m\u001b[0m\u001b[0m\n\u001b[1;32m     36\u001b[0m         \u001b[0mself\u001b[0m\u001b[0;34m.\u001b[0m\u001b[0mset_subplotspec\u001b[0m\u001b[0;34m(\u001b[0m\u001b[0mSubplotSpec\u001b[0m\u001b[0;34m.\u001b[0m\u001b[0m_from_subplot_args\u001b[0m\u001b[0;34m(\u001b[0m\u001b[0mfig\u001b[0m\u001b[0;34m,\u001b[0m \u001b[0margs\u001b[0m\u001b[0;34m)\u001b[0m\u001b[0;34m)\u001b[0m\u001b[0;34m\u001b[0m\u001b[0;34m\u001b[0m\u001b[0m\n",
      "\u001b[0;32m~/opt/anaconda3/lib/python3.9/site-packages/astropy/visualization/wcsaxes/core.py\u001b[0m in \u001b[0;36m__init__\u001b[0;34m(self, fig, rect, wcs, transform, coord_meta, transData, slices, frame_class, **kwargs)\u001b[0m\n\u001b[1;32m    119\u001b[0m             \u001b[0mself\u001b[0m\u001b[0;34m.\u001b[0m\u001b[0mtransData\u001b[0m \u001b[0;34m=\u001b[0m \u001b[0mtransData\u001b[0m\u001b[0;34m\u001b[0m\u001b[0;34m\u001b[0m\u001b[0m\n\u001b[1;32m    120\u001b[0m \u001b[0;34m\u001b[0m\u001b[0m\n\u001b[0;32m--> 121\u001b[0;31m         \u001b[0mself\u001b[0m\u001b[0;34m.\u001b[0m\u001b[0mreset_wcs\u001b[0m\u001b[0;34m(\u001b[0m\u001b[0mwcs\u001b[0m\u001b[0;34m=\u001b[0m\u001b[0mwcs\u001b[0m\u001b[0;34m,\u001b[0m \u001b[0mslices\u001b[0m\u001b[0;34m=\u001b[0m\u001b[0mslices\u001b[0m\u001b[0;34m,\u001b[0m \u001b[0mtransform\u001b[0m\u001b[0;34m=\u001b[0m\u001b[0mtransform\u001b[0m\u001b[0;34m,\u001b[0m \u001b[0mcoord_meta\u001b[0m\u001b[0;34m=\u001b[0m\u001b[0mcoord_meta\u001b[0m\u001b[0;34m)\u001b[0m\u001b[0;34m\u001b[0m\u001b[0;34m\u001b[0m\u001b[0m\n\u001b[0m\u001b[1;32m    122\u001b[0m         \u001b[0mself\u001b[0m\u001b[0;34m.\u001b[0m\u001b[0m_hide_parent_artists\u001b[0m\u001b[0;34m(\u001b[0m\u001b[0;34m)\u001b[0m\u001b[0;34m\u001b[0m\u001b[0;34m\u001b[0m\u001b[0m\n\u001b[1;32m    123\u001b[0m         \u001b[0mself\u001b[0m\u001b[0;34m.\u001b[0m\u001b[0mformat_coord\u001b[0m \u001b[0;34m=\u001b[0m \u001b[0mself\u001b[0m\u001b[0;34m.\u001b[0m\u001b[0m_display_world_coords\u001b[0m\u001b[0;34m\u001b[0m\u001b[0;34m\u001b[0m\u001b[0m\n",
      "\u001b[0;32m~/opt/anaconda3/lib/python3.9/site-packages/astropy/visualization/wcsaxes/core.py\u001b[0m in \u001b[0;36mreset_wcs\u001b[0;34m(self, wcs, slices, transform, coord_meta)\u001b[0m\n\u001b[1;32m    368\u001b[0m         \u001b[0;32mif\u001b[0m \u001b[0mself\u001b[0m\u001b[0;34m.\u001b[0m\u001b[0mwcs\u001b[0m \u001b[0;32mis\u001b[0m \u001b[0;32mnot\u001b[0m \u001b[0;32mNone\u001b[0m\u001b[0;34m:\u001b[0m\u001b[0;34m\u001b[0m\u001b[0;34m\u001b[0m\u001b[0m\n\u001b[1;32m    369\u001b[0m \u001b[0;34m\u001b[0m\u001b[0m\n\u001b[0;32m--> 370\u001b[0;31m             \u001b[0mtransform\u001b[0m\u001b[0;34m,\u001b[0m \u001b[0mcoord_meta\u001b[0m \u001b[0;34m=\u001b[0m \u001b[0mtransform_coord_meta_from_wcs\u001b[0m\u001b[0;34m(\u001b[0m\u001b[0mself\u001b[0m\u001b[0;34m.\u001b[0m\u001b[0mwcs\u001b[0m\u001b[0;34m,\u001b[0m \u001b[0mself\u001b[0m\u001b[0;34m.\u001b[0m\u001b[0mframe_class\u001b[0m\u001b[0;34m,\u001b[0m \u001b[0mslices\u001b[0m\u001b[0;34m=\u001b[0m\u001b[0mslices\u001b[0m\u001b[0;34m)\u001b[0m\u001b[0;34m\u001b[0m\u001b[0;34m\u001b[0m\u001b[0m\n\u001b[0m\u001b[1;32m    371\u001b[0m \u001b[0;34m\u001b[0m\u001b[0m\n\u001b[1;32m    372\u001b[0m         self.coords = CoordinatesMap(self,\n",
      "\u001b[0;32m~/opt/anaconda3/lib/python3.9/site-packages/astropy/visualization/wcsaxes/wcsapi.py\u001b[0m in \u001b[0;36mtransform_coord_meta_from_wcs\u001b[0;34m(wcs, frame_class, slices)\u001b[0m\n\u001b[1;32m     29\u001b[0m     \u001b[0;32mif\u001b[0m \u001b[0mwcs\u001b[0m\u001b[0;34m.\u001b[0m\u001b[0mpixel_n_dim\u001b[0m \u001b[0;34m>\u001b[0m \u001b[0;36m2\u001b[0m\u001b[0;34m:\u001b[0m\u001b[0;34m\u001b[0m\u001b[0;34m\u001b[0m\u001b[0m\n\u001b[1;32m     30\u001b[0m         \u001b[0;32mif\u001b[0m \u001b[0mslices\u001b[0m \u001b[0;32mis\u001b[0m \u001b[0;32mNone\u001b[0m\u001b[0;34m:\u001b[0m\u001b[0;34m\u001b[0m\u001b[0;34m\u001b[0m\u001b[0m\n\u001b[0;32m---> 31\u001b[0;31m             raise ValueError(\"WCS has more than 2 pixel dimensions, so \"\n\u001b[0m\u001b[1;32m     32\u001b[0m                              \"'slices' should be set\")\n\u001b[1;32m     33\u001b[0m         \u001b[0;32melif\u001b[0m \u001b[0mlen\u001b[0m\u001b[0;34m(\u001b[0m\u001b[0mslices\u001b[0m\u001b[0;34m)\u001b[0m \u001b[0;34m!=\u001b[0m \u001b[0mwcs\u001b[0m\u001b[0;34m.\u001b[0m\u001b[0mpixel_n_dim\u001b[0m\u001b[0;34m:\u001b[0m\u001b[0;34m\u001b[0m\u001b[0;34m\u001b[0m\u001b[0m\n",
      "\u001b[0;31mValueError\u001b[0m: WCS has more than 2 pixel dimensions, so 'slices' should be set"
     ]
    },
    {
     "data": {
      "text/plain": [
       "<Figure size 1000x1000 with 0 Axes>"
      ]
     },
     "metadata": {},
     "output_type": "display_data"
    }
   ],
   "source": [
    "fig1 = pylab.figure(1,figsize=(10,10))       # We will make this figure #1 and give it a size of 10x10\n",
    "\n",
    "                                             # We also want to make sure that our image is plotted with sky coordinates\n",
    "ax1 = pylab.subplot(projection=w1)            # We do this by specifying a projection (the wcs from the previous cell)\n",
    "RA = ax1.coords[0]\n",
    "Dec = ax1.coords[1]\n",
    "\n",
    "im1 = pylab.imshow(image_2D,cmap='Greys')   # We have a lot of control over how we plot the image.\n",
    "                                            # We can change the color, range of values, even transparency:\n",
    "#im1 = pylab.imshow(image_2D,cmap='Greys_r')\n",
    "#im1 = pylab.imshow(image_2D,cmap='bone',vmin=0,vmax=0.002)\n",
    "#im1 = pylab.imshow(image_2D,cmap='viridis', vmin=0, alpha=0.5)\n",
    "\n",
    "                                            # Note that each of these options will plot on top of any \n",
    "                                            # previously-displayed image. To display an image as a\n",
    "                                            # new figure, you need to define a new figure command, \n",
    "                                            # with a unique figure number, e.g, fig2 = pylab.figure(2)\n",
    "                                            \n",
    "                                            # The options below show other ways to customize this figure \n",
    "RA.set_ticks(size=-3)                       # Change the length of the tick marks \n",
    "Dec.set_ticks(size=-3)                      # (negative values place ticks inside the bounding box)\n",
    "pylab.xlabel('Right Ascension',fontsize=20,labelpad=1) # Label the x-axis\n",
    "pylab.ylabel('Declination',fontsize=20,labelpad=0) # Label the y-axis\n",
    "ax1.tick_params(axis = 'both', which = 'major', labelsize = 15) # Increase the font of the tick labels\n",
    "pylab.annotate(s='Continuum',fontsize=40,xy=(0.02,0.91),xycoords=\"axes fraction\") # Add a label in the figure\n",
    "cb=pylab.colorbar(im1,fraction=0.046,pad=0.04) # Define a color bar\n",
    "cb.set_label(label='Flux Density (Jy / beam)',fontsize=25,rotation=270,labelpad=30) # Add a colorbar label\n",
    "cb.ax.tick_params(which = 'major', labelsize = 20) # Increase the font size on the colorbar tick labels\n",
    "\n",
    "\n"
   ]
  },
  {
   "cell_type": "code",
   "execution_count": null,
   "id": "f75eff19-9fbd-45db-978d-96ef04f77524",
   "metadata": {},
   "outputs": [],
   "source": [
    "\n"
   ]
  },
  {
   "cell_type": "code",
   "execution_count": null,
   "id": "b62aedfb-4b7a-44eb-aaed-9699d1eaea25",
   "metadata": {},
   "outputs": [],
   "source": [
    "\n"
   ]
  },
  {
   "cell_type": "code",
   "execution_count": null,
   "id": "ae324c6e-34bc-42b9-bd47-fffc35a3e4c2",
   "metadata": {},
   "outputs": [],
   "source": []
  }
 ],
 "metadata": {
  "kernelspec": {
   "display_name": "Python 3 (ipykernel)",
   "language": "python",
   "name": "python3"
  },
  "language_info": {
   "codemirror_mode": {
    "name": "ipython",
    "version": 3
   },
   "file_extension": ".py",
   "mimetype": "text/x-python",
   "name": "python",
   "nbconvert_exporter": "python",
   "pygments_lexer": "ipython3",
   "version": "3.9.13"
  }
 },
 "nbformat": 4,
 "nbformat_minor": 5
}
